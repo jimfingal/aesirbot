{
 "metadata": {
  "name": "",
  "signature": "sha256:5b763e207f554db9a98b0ed9b054cc9499d5225940fcfd95f7a55a8c20fe0072"
 },
 "nbformat": 3,
 "nbformat_minor": 0,
 "worksheets": [
  {
   "cells": [
    {
     "cell_type": "code",
     "collapsed": false,
     "input": [
      "from unipath import Path\n",
      "import nltk\n",
      "from bs4 import BeautifulSoup\n",
      "import re\n",
      "\n",
      "sent_detector = nltk.data.load('tokenizers/punkt/english.pickle')\n",
      "\n",
      "multiple_spaces = re.compile(ur'(\\s)+', re.UNICODE)\n",
      "space_before_punct = re.compile(ur' (\\W)', re.UNICODE)\n",
      "\n",
      "def rough_song_split(text):\n",
      "    songs = []\n",
      "    for song in text.split('<h3>'):\n",
      "        if \"a name\" in song:\n",
      "            songs.append(\"<h3>\" + song)\n",
      "    return songs\n",
      "\n",
      "def get_text(soup):\n",
      "    titles = [s.extract() for s in soup('h3')]\n",
      "    links = [s.extract() for s in soup('a')]\n",
      "    description = [s.extract() for s in soup('i')]\n",
      "    other_divs = [s.extract() for s in soup.select('div')]\n",
      "\n",
      "    song_text = soup.text.strip()\n",
      "    return song_text\n",
      "\n",
      "def split_and_clean(song_text):\n",
      "    sentences = sent_detector.tokenize(song_text.strip())\n",
      "    # Song lines \n",
      "    # sentences = filter(lambda x: x, song_text.strip().split('\\n'))\n",
      "    sentences = map(lambda x : x.encode('utf-8'), sentences)\n",
      "    only_real_sentences = filter(lambda x: len(x) >= 15, sentences)\n",
      "    cleaned = map(lambda x: re.sub(multiple_spaces, ' ', x.lower().replace('\\n', ' ').replace('\\xc2\\xa0', ' ')), only_real_sentences)\n",
      "    cleaned = map(lambda x: re.sub(space_before_punct, r'\\1', x), cleaned)\n",
      "    return cleaned\n",
      "\n",
      "\n",
      "def overlap_words(corpus, words):\n",
      "    '''Takes a list of tokenized words, and returns overlap with an enumerated set of test words'''\n",
      "    return set(corpus).intersection(words)\n",
      "\n",
      "example_words = set([\"odin\", \"thor\"])\n",
      "example_words\n"
     ],
     "language": "python",
     "metadata": {},
     "outputs": [
      {
       "metadata": {},
       "output_type": "pyout",
       "prompt_number": 1,
       "text": [
        "{'odin', 'thor'}"
       ]
      }
     ],
     "prompt_number": 1
    },
    {
     "cell_type": "code",
     "collapsed": false,
     "input": [
      "from collections import defaultdict\n",
      "import nltk \n",
      "from nltk.util import ngrams\n",
      "\n",
      "import re\n",
      "\n",
      "class MarkovChain(object):\n",
      "    def __init__(self, ngram_size=2, divider_token='^'):\n",
      "        self.n = ngram_size\n",
      "        self.transition_probabilities = defaultdict(nltk.FreqDist)\n",
      "        self.divider_token = divider_token\n",
      "        \n",
      "    def tokenize_sentence(self, sentence):\n",
      "        sentence = sentence.lower()\n",
      "        sentence = (self.divider_token + ' ') * self.n + sentence + (' ' + self.divider_token) * self.n\n",
      "        word_tokenized = nltk.tokenize.word_tokenize(sentence)\n",
      "        return list(ngrams(word_tokenized,  self.n))\n",
      "    \n",
      "    def train_sentence(self, sentence):\n",
      "        tokenized = self.tokenize_sentence(sentence.decode('utf-8'))\n",
      "        # Annoyting utf8 hijinx\n",
      "        tokenized = map(lambda x: tuple(map(lambda y: y.encode('utf-8'), x)), tokenized)\n",
      "        num_tokens = len(tokenized)\n",
      "        for i, token in enumerate(tokenized):\n",
      "            if i < num_tokens - 1:\n",
      "                next_token = tokenized[i + 1]\n",
      "                self.transition_probabilities[token][next_token[self.n - 1:]] += 1\n",
      "    \n",
      "    def _get_sentence_starter(self):\n",
      "        return self.n * (self.divider_token,)\n",
      "    \n",
      "    def get_next(self, current, weighted_by_probability=False):\n",
      "        \n",
      "        next_freq = self.transition_probabilities[current]\n",
      "        \n",
      "        if weighted_by_probability:\n",
      "            prob_dist = nltk.MLEProbDist(next_freq)\n",
      "            return prob_dist.generate()\n",
      "        else:\n",
      "            prob_dist = nltk.UniformProbDist(next_freq)\n",
      "            return prob_dist.generate()\n",
      "    \n",
      "    def _clean_sentence(self, generated_sentence):\n",
      "        cleaned = ' '.join(generated_sentence[self.n:-self.n])\n",
      "        cleaned = cleaned.capitalize()\n",
      "        cleaned = re.sub(' (\\W)', r'\\1', cleaned) # Remove space before punct\n",
      "        return cleaned\n",
      "    \n",
      "    def generate_sentence(self, max_words=100, weighted_by_probability=False):\n",
      "\n",
      "        sentence = current = start = self._get_sentence_starter()\n",
      "        count = 0\n",
      "        while True:\n",
      "            count += 1\n",
      "\n",
      "            next_token = self.get_next(current)\n",
      "            sentence = sentence + next_token\n",
      "            current = sentence[-self.n:]            \n",
      "            if current == start or count > max_words:\n",
      "                break\n",
      "        return self._clean_sentence(sentence)"
     ],
     "language": "python",
     "metadata": {},
     "outputs": [],
     "prompt_number": 2
    },
    {
     "cell_type": "code",
     "collapsed": false,
     "input": [
      "aesir_words = set([\"odin\", \n",
      "                     \"thor\",\n",
      "                     \"asgard\",\n",
      "                     \"loki\",\n",
      "                     \"balder\",\n",
      "                     \"frigg\",\n",
      "                     \"njord\", \"njordr\",\n",
      "                     \"freyr\", \"frejya\",\n",
      "                     \"bragi\", \n",
      "                     \"heimdall\",\n",
      "                     \"hoder\",\n",
      "                     \"vidar\",\n",
      "                     \"ullr\",\n",
      "                     \"forseti\",\n",
      "                     \"gefjun\",\n",
      "                     \"lofn\",\n",
      "                     \"snotra\",\n",
      "                     \"aesir\",\n",
      "                     \"vanir\",\n",
      "                     \"tyr\",\n",
      "                     \"fenrir\", \"fenris\",\n",
      "                     \"ragnarok\",\n",
      "                     \"midgard\",\n",
      "                     \"jormungandr\",\n",
      "                     \"yggdrasil\",\n",
      "                     \"valhall\",\n",
      "                     \"ymir\",\n",
      "                     \"niflheim\",\n",
      "                     \"bifrost\",\n",
      "                     \"valhalla\",\n",
      "                     \"mjolnir\",\n",
      "                     \"helheim\",\n",
      "                     \"jotuns\", \"jotun\"\n",
      "                     ])\n",
      "\n",
      "secondary_words = set([\"saga\",\n",
      "                     \"ancient\",\n",
      "                     \"ceremony\",\n",
      "                    \"moonlight\", \"goddess\"])\n",
      "\n",
      "example_words = aesir_words"
     ],
     "language": "python",
     "metadata": {},
     "outputs": [],
     "prompt_number": 3
    },
    {
     "cell_type": "code",
     "collapsed": false,
     "input": [
      "p.absolute()"
     ],
     "language": "python",
     "metadata": {},
     "outputs": [
      {
       "metadata": {},
       "output_type": "pyout",
       "prompt_number": 20,
       "text": [
        "Path(u'/Users/fingal/Code/Projects/Bots/ebookofblackearth/data')"
       ]
      }
     ],
     "prompt_number": 20
    },
    {
     "cell_type": "code",
     "collapsed": false,
     "input": [
      "import codecs\n",
      "import io\n",
      "import langid\n",
      "\n",
      "p = Path('./data')\n",
      "\n",
      "count = 0\n",
      "scount = 0\n",
      "markov = MarkovChain(ngram_size=3)\n",
      "all_sentences = set()\n",
      "for path in p.walk(filter=lambda p: p.isfile() and re.match(r\".*html\", p.name)):\n",
      "\n",
      "    with io.open(str(path), 'r', encoding='utf-8') as f: \n",
      "        \n",
      "        file_text = f.read().decode('utf-8')\n",
      "        language = langid.classify(file_text)\n",
      "        \n",
      "        songs = rough_song_split(file_text)\n",
      "        \n",
      "        # Should probably just get this from the path filename\n",
      "        split = str(path).split('/')[-1].split('.')[0].split('_')\n",
      "        artist = split[0]\n",
      "        album = split[1]\n",
      "\n",
      "        #print artist, album, language\n",
      "        \n",
      "        if language[0] != \"en\":\n",
      "            continue\n",
      "\n",
      "        for song in songs:\n",
      "            soup = BeautifulSoup(song)\n",
      "            songname = soup('h3')[0].text\n",
      "            #print songname\n",
      "            song_text = get_text(soup)\n",
      "            #print song_text\n",
      "            #print \"--\"\n",
      "            \n",
      "            try:\n",
      "                cleaned_sentences = split_and_clean(song_text)\n",
      "                joined = \"\\n\".join(cleaned_sentences)\n",
      "\n",
      "                word_tokenized = nltk.tokenize.word_tokenize(unicode(joined, errors='replace'))\n",
      "\n",
      "                overlap = overlap_words(word_tokenized, example_words)\n",
      "                #print word_tokenized\n",
      "                if overlap:\n",
      "                    print artist, album, songname \n",
      "\n",
      "                    for sentence in cleaned_sentences:\n",
      "                        markov.train_sentence(unicode(sentence, errors='ignore').encode('utf-8'))\n",
      "                        all_sentences.add(sentence)\n",
      "                        scount += 1\n",
      "                    count += 1\n",
      "                    if count % 5 == 0:\n",
      "                        print count\n",
      "                        print scount\n",
      "            except Exception as e:\n",
      "                print \"Exception in: \", path\n",
      "                print e"
     ],
     "language": "python",
     "metadata": {},
     "outputs": [
      {
       "output_type": "stream",
       "stream": "stdout",
       "text": [
        "ablazemysorrow hateangerfury 3. Where The Strong Live Forever\n",
        "absurd"
       ]
      },
      {
       "output_type": "stream",
       "stream": "stdout",
       "text": [
        " wolfskriegergaldurvikodlaks 4. Triumph Of Death\n",
        "abusedmajesty"
       ]
      },
      {
       "output_type": "stream",
       "stream": "stdout",
       "text": [
        " godsarewithus 3. Gods Are With Us\n",
        "abusedmajesty godsarewithus 4. The Reaven Odin's Witness\n",
        "abusedmajesty godsarewithus 6. I Am The Judge\n",
        "5\n",
        "20\n",
        "acheron"
       ]
      },
      {
       "output_type": "stream",
       "stream": "stdout",
       "text": [
        " antigodantichrist 5. Total War\n",
        "adhominem"
       ]
      },
      {
       "output_type": "stream",
       "stream": "stdout",
       "text": [
        " planetzogtheend 8. Soldiers Of Wotan\n",
        "adornedbrood"
       ]
      },
      {
       "output_type": "stream",
       "stream": "stdout",
       "text": [
        " hammerfeste 8. Lead My Ship\n",
        "adornedbrood hammerfeste 10. Bless Our Warriors\n",
        "adornedbrood"
       ]
      },
      {
       "output_type": "stream",
       "stream": "stdout",
       "text": [
        " hiltia 10. Die Rede Des Erhabenen\n",
        "10"
       ]
      },
      {
       "output_type": "stream",
       "stream": "stdout",
       "text": [
        "\n",
        "55\n",
        "adornedbrood kuningaz 4. Victory Or Valhall\n",
        "adramelech"
       ]
      },
      {
       "output_type": "stream",
       "stream": "stdout",
       "text": [
        " psychostasia 1. Heroes In Godly Blaze\n",
        "aetherrealm"
       ]
      },
      {
       "output_type": "stream",
       "stream": "stdout",
       "text": [
        " onechosenbythegods 8. Odin Will Provide\n",
        "afflicted"
       ]
      },
      {
       "output_type": "stream",
       "stream": "stdout",
       "text": [
        " progidalsun 7. Rising To The Sun\n",
        "airgedlamh"
       ]
      },
      {
       "output_type": "stream",
       "stream": "stdout",
       "text": [
        " oneeyedgod 1. After Glow / Heart Of My Kingdom\n",
        "15\n",
        "63\n",
        "airgedlamh oneeyedgod 4. Ragnarok\n",
        "airgedlamh oneeyedgod 5. Yildrazil / One Eyed God\n",
        "alestorm"
       ]
      },
      {
       "output_type": "stream",
       "stream": "stdout",
       "text": [
        " backthroughtime 1. Back Through Time\n",
        "allegiancesweden"
       ]
      },
      {
       "output_type": "stream",
       "stream": "stdout",
       "text": [
        " hymntillhangagud 4. Himmelen R\u00e4mnar\n",
        "amberiandawn"
       ]
      },
      {
       "output_type": "stream",
       "stream": "stdout",
       "text": [
        " riveroftuoni 4. Valkyries\n",
        "20\n",
        "92\n",
        "amonamarth"
       ]
      },
      {
       "output_type": "stream",
       "stream": "stdout",
       "text": [
        " oncesentfromthegoldenhall 5. Friends Of The Suncross\n",
        "amonamarth sorrowthroughoutthenineworlds 1. Sorrow Throughtout The Nine Worlds\n",
        "amonamarth sorrowthroughoutthenineworlds 2. The Arrival Of The Fimbul Winter\n",
        "amonamarth sorrowthroughoutthenineworlds 3. Burning Creation\n",
        "amonamarth"
       ]
      },
      {
       "output_type": "stream",
       "stream": "stdout",
       "text": [
        " surturrising 1. War Of The Gods\n",
        "25\n",
        "105\n",
        "amonamarth"
       ]
      },
      {
       "output_type": "stream",
       "stream": "stdout",
       "text": [
        " theavenger 2. The Last With Pagan Blood\n",
        "amonamarth theavenger 6. Metalwrath\n",
        "amonamarth theavenger 7. Legend Of A Banished Man\n",
        "amonamarth"
       ]
      },
      {
       "output_type": "stream",
       "stream": "stdout",
       "text": [
        " thecrusher 7. Annihilation Of Hammerfest\n",
        "amonamarth thecrusher 9. Releasing Surtur's Fire\n",
        "30\n",
        "111\n",
        "amonamarth twilightofthethundergod 1. Twilight Of The Thunder God\n",
        "amonamarth"
       ]
      },
      {
       "output_type": "stream",
       "stream": "stdout",
       "text": [
        " withodenonourside 3. Asator\n",
        "amonamarth withodenonourside 9. Prediction Of Warfare\n",
        "ancientdome"
       ]
      },
      {
       "output_type": "stream",
       "stream": "stdout",
       "text": [
        " humankey 1. Ancient Dome\n",
        "ancientrites"
       ]
      },
      {
       "output_type": "stream",
       "stream": "stdout",
       "text": [
        " dimcarcosa 9. Lindisfarne (Anno 793)\n",
        "35\n",
        "158\n",
        "angelidipietra"
       ]
      },
      {
       "output_type": "stream",
       "stream": "stdout",
       "text": [
        " stormoverscaldis 2. Ride Into Oblivion\n",
        "angus"
       ]
      },
      {
       "output_type": "stream",
       "stream": "stdout",
       "text": [
        " trackofdoom 2. When Giants Collide\n",
        "antithesis"
       ]
      },
      {
       "output_type": "stream",
       "stream": "stdout",
       "text": [
        " dyingforlife 6. Mad Poet\n",
        "apraxia"
       ]
      },
      {
       "output_type": "stream",
       "stream": "stdout",
       "text": [
        " returntoancient 8. Northern Wind & Black Sky\n",
        "arafel"
       ]
      },
      {
       "output_type": "stream",
       "stream": "stdout",
       "text": [
        " thewayofdefender 3. The First Battle\n",
        "40\n",
        "180\n",
        "archenemy"
       ]
      },
      {
       "output_type": "stream",
       "stream": "stdout",
       "text": [
        " deadeyesseenofuture 5. Kill With Power\n",
        "arkhamwitch"
       ]
      },
      {
       "output_type": "stream",
       "stream": "stdout",
       "text": [
        " oncromsmountain 9. Viking Pirates Of Doom\n",
        "armoredsaint"
       ]
      },
      {
       "output_type": "stream",
       "stream": "stdout",
       "text": [
        " marchofthesaint 1. March of the Saint\n",
        "aska"
       ]
      },
      {
       "output_type": "stream",
       "stream": "stdout",
       "text": [
        " avenger 10. Valkyries\n",
        "aska fireeater24246 3. Valhalla\n",
        "45\n",
        "196\n",
        "auroraborealis"
       ]
      },
      {
       "output_type": "stream",
       "stream": "stdout",
       "text": [
        " relinquish 1. Myths Of The Light\n",
        "auroraborealis"
       ]
      },
      {
       "output_type": "stream",
       "stream": "stdout",
       "text": [
        " timeunveiled 5. Berserker\n",
        "ayreon"
       ]
      },
      {
       "output_type": "stream",
       "stream": "stdout",
       "text": [
        " intotheelectriccastle 5. The Decision Tree (We're Alive)\n",
        "ayreon"
       ]
      },
      {
       "output_type": "stream",
       "stream": "stdout",
       "text": [
        " intotheelectriccastle 15. The Two Gates\n",
        "bathory"
       ]
      },
      {
       "output_type": "stream",
       "stream": "stdout",
       "text": [
        " jubileumvolumei 14. Equimanthorn\n",
        "50\n",
        "223\n",
        "bathory"
       ]
      },
      {
       "output_type": "stream",
       "stream": "stdout",
       "text": [
        " underthesignoftheblackmark 5. Equimanthorn\n",
        "battlelore"
       ]
      },
      {
       "output_type": "stream",
       "stream": "stdout",
       "text": [
        " swordssong 7. Khazad-Dum Pt. 2 (Silent Caverns)\n",
        "battleroar"
       ]
      },
      {
       "output_type": "stream",
       "stream": "stdout",
       "text": [
        " battleroar 10. Dragonship\n",
        "berserkr"
       ]
      },
      {
       "output_type": "stream",
       "stream": "stdout",
       "text": [
        " crushtheweak 6. Lords Of The Sea\n",
        "berserkr thevoiceofourancestors 2. Choosers Of The Slain\n",
        "55\n",
        "229\n",
        "blackomen"
       ]
      },
      {
       "output_type": "stream",
       "stream": "stdout",
       "text": [
        " sinphony 12. Loki: Causer Of Ragnarok\n",
        "blackorchidspain"
       ]
      },
      {
       "output_type": "stream",
       "stream": "stdout",
       "text": [
        " abattleinthesnow 6. A Battle In The Snow\n",
        "blackorchidspain thoselands 2. The Wanderer\n",
        "blacksabbath"
       ]
      },
      {
       "output_type": "stream",
       "stream": "stdout",
       "text": [
        " tyr 6. Odin's Court\n",
        "blacksabbath tyr 7. Valhalla\n",
        "60\n",
        "239\n",
        "blindguardian"
       ]
      },
      {
       "output_type": "stream",
       "stream": "stdout",
       "text": [
        " attheedgeoftime 6. Valkyries\n",
        "bornholm"
       ]
      },
      {
       "output_type": "stream",
       "stream": "stdout",
       "text": [
        " marchforgloryandrevenge 5. Where The Light Was Born (Thule Ultima A Sole Nomen Habens)\n",
        "bretwaldasofheathendoom"
       ]
      },
      {
       "output_type": "stream",
       "stream": "stdout",
       "text": [
        " battlestaffsinthemushroomwoods 9. Blood Of Gods And Men\n",
        "capricorn"
       ]
      },
      {
       "output_type": "stream",
       "stream": "stdout",
       "text": [
        " capricorn 3. Burn\n",
        "cauldronborn"
       ]
      },
      {
       "output_type": "stream",
       "stream": "stdout",
       "text": [
        " andromeshallfall 6. Clontarf\n",
        "65\n",
        "245\n",
        "cirithgorgor"
       ]
      },
      {
       "output_type": "stream",
       "stream": "stdout",
       "text": [
        " onwardstothespectraldefile 1. The Declaration Of Our Neverending War\n",
        "cloudscape"
       ]
      },
      {
       "output_type": "stream",
       "stream": "stdout",
       "text": [
        " newera 11. Into The Unknown\n",
        "crimsonglory"
       ]
      },
      {
       "output_type": "stream",
       "stream": "stdout",
       "text": [
        " crimsonglory 1. Valhalla\n",
        "crowbar"
       ]
      },
      {
       "output_type": "stream",
       "stream": "stdout",
       "text": [
        " crowbar 5. No Quarter\n",
        "crowblacksky"
       ]
      },
      {
       "output_type": "stream",
       "stream": "stdout",
       "text": [
        " pantheion 6. Retribution\n",
        "70\n",
        "289\n",
        "crystaleyes"
       ]
      },
      {
       "output_type": "stream",
       "stream": "stdout",
       "text": [
        " confessionsofthemaker 1. The Charioteer\n",
        "crystaleyes"
       ]
      },
      {
       "output_type": "stream",
       "stream": "stdout",
       "text": [
        " deadcitydreaming 10. The Halls Of Valhalla\n",
        "crystaleyes insilencetheymarch 3. Sons Of Odin\n",
        "darkavenger"
       ]
      },
      {
       "output_type": "stream",
       "stream": "stdout",
       "text": [
        " darkavenger 2. Die Mermaid!\n",
        "darkcastle"
       ]
      },
      {
       "output_type": "stream",
       "stream": "stdout",
       "text": [
        " flightofpegasus 4. No Quarter\n",
        "75\n",
        "308\n",
        "darkforest"
       ]
      },
      {
       "output_type": "stream",
       "stream": "stdout",
       "text": [
        " auroraborealis 2. Wind And Waves\n",
        "darkforest auroraborealis 4. Under The Northern Fullmoon\n",
        "darkforest demo2005 2. Under The Northern Fullmoon\n",
        "darkfuneral"
       ]
      },
      {
       "output_type": "stream",
       "stream": "stdout",
       "text": [
        " inthesign 5. Equimanthorn\n",
        "darkmoor"
       ]
      },
      {
       "output_type": "stream",
       "stream": "stdout",
       "text": [
        " shadowland 1. Walhalla\n",
        "80\n",
        "341\n",
        "darkthrone"
       ]
      },
      {
       "output_type": "stream",
       "stream": "stdout",
       "text": [
        " panzerfaust 4. Hans Siste Vinter\n",
        "darkwoodsmybetrothed"
       ]
      },
      {
       "output_type": "stream",
       "stream": "stdout",
       "text": [
        " heirsofthenorthstar 3. Uller\n",
        "darkwoodsmybetrothed heirsofthenorthstar 4. From The Snowy Hillsides They Came\n",
        "darkwoodsmybetrothed heirsofthenorthstar 7. Yggdrasil's Children Fall\n",
        "ddsengel"
       ]
      },
      {
       "output_type": "stream",
       "stream": "stdout",
       "text": [
        " imperator 21. The Supreme Ritual\n",
        "85\n",
        "448\n",
        "demether"
       ]
      },
      {
       "output_type": "stream",
       "stream": "stdout",
       "text": [
        " withinthemirror 3. Last Night\n",
        "desaster"
       ]
      },
      {
       "output_type": "stream",
       "stream": "stdout",
       "text": [
        " atouchofmedievaldarkness 2. In A Winter Battle\n",
        "dethklok"
       ]
      },
      {
       "output_type": "stream",
       "stream": "stdout",
       "text": [
        " thedethalbumii 8. I Tamper With The Evidence At The Murder Site Of Odin\n",
        "domine"
       ]
      },
      {
       "output_type": "stream",
       "stream": "stdout",
       "text": [
        " dragonlord 1. Thunderstorm\n",
        "domine"
       ]
      },
      {
       "output_type": "stream",
       "stream": "stdout",
       "text": [
        " stormbringerrulerthelegendofthepowersupreme 4. The Ride Of The Valkyries\n",
        "90\n",
        "455\n",
        "dominus"
       ]
      },
      {
       "output_type": "stream",
       "stream": "stdout",
       "text": [
        " viewtothedim 9. The Blaze Of Valhalla\n",
        "dominus viewtothedim 11. The Raven's Eye\n",
        "doomsword"
       ]
      },
      {
       "output_type": "stream",
       "stream": "stdout",
       "text": [
        " letbattlecommence 1. Heathen Assault (Burn Jorvik To The Ground!)\n",
        "doomsword letbattlecommence 2. In The Battlefield\n",
        "doomsword mynamewillliveon 7. Luni\n",
        "95\n",
        "474\n",
        "doomsword"
       ]
      },
      {
       "output_type": "stream",
       "stream": "stdout",
       "text": [
        " resoundthehorn 1. Shores Of Vinland\n",
        "doomsword resoundthehorn 7. Resound The Horn: Odin's Hail\n",
        "doomsword theeternalbattle 2. Eternal Battle\n",
        "dragonheartbrazil"
       ]
      },
      {
       "output_type": "stream",
       "stream": "stdout",
       "text": [
        " underdark 10. Gods Of Ice\n",
        "drakkar"
       ]
      },
      {
       "output_type": "stream",
       "stream": "stdout",
       "text": [
        " questforglory 9. Quest For Glory (Valhall)\n",
        "100\n",
        "494\n",
        "drakkar"
       ]
      },
      {
       "output_type": "stream",
       "stream": "stdout",
       "text": [
        " whenlightningstrikes 10. We Ride\n",
        "dreamevil"
       ]
      },
      {
       "output_type": "stream",
       "stream": "stdout",
       "text": [
        " united 7. Kingdom At War\n",
        "drearylands"
       ]
      },
      {
       "output_type": "stream",
       "stream": "stdout",
       "text": [
        " somedrearysongsandothertunesfromtheshadows 4. Colors Of Bifrost\n",
        "einherjer"
       ]
      },
      {
       "output_type": "stream",
       "stream": "stdout",
       "text": [
        " auroraborealis 4. Einherjer\n",
        "einherjer blot 2. Ironbound\n",
        "105\n",
        "524\n",
        "einherjer"
       ]
      },
      {
       "output_type": "stream",
       "stream": "stdout",
       "text": [
        " dragonsofthenorth 1. Dragons Of The North\n",
        "einherjer dragonsofthenorth 6. Storms Of The Elder\n",
        "einherjer farfarnorth 1. Far Far North\n",
        "einherjer farfarnorth 2. Naar Hammeren Heves\n",
        "einherjer"
       ]
      },
      {
       "output_type": "stream",
       "stream": "stdout",
       "text": [
        " norwegiannativeart 1. Wyrd of the Dead\n",
        "110\n",
        "531\n",
        "einherjer norwegiannativeart 5. Crimson Rain\n",
        "einherjer odinownsyeall 1. Out Of Ginnungagap\n",
        "einherjer odinownsyeall 3. Odin Owns Ye All\n",
        "einherjer"
       ]
      },
      {
       "output_type": "stream",
       "stream": "stdout",
       "text": [
        " odinownsyeall 5. Home\n",
        "einherjer odinownsyeall 6. The Pathfinder & The Prophetess\n",
        "115\n",
        "541\n",
        "einherjer odinownsyeall 8. A New Earth\n",
        "emeraldswitzerland"
       ]
      },
      {
       "output_type": "stream",
       "stream": "stdout",
       "text": [
        " forcesofdoom 11. Birth Of A Legend\n",
        "enslaved"
       ]
      },
      {
       "output_type": "stream",
       "stream": "stdout",
       "text": [
        " blodhemn 9. Suttungs Mj\u00f8d\n",
        "enslaved"
       ]
      },
      {
       "output_type": "stream",
       "stream": "stdout",
       "text": [
        " vikingligrveldi 2. A Winter's Night\n",
        "enthroned"
       ]
      },
      {
       "output_type": "stream",
       "stream": "stdout",
       "text": [
        " propheciesofpaganfire 3. Under The Holocaust\n",
        "120\n",
        "555\n",
        "enthroned propheciesofpaganfire 8. Skjeldenland\n",
        "erebaltor"
       ]
      },
      {
       "output_type": "stream",
       "stream": "stdout",
       "text": [
        " theend 6. Vargavinter (The End Part II)\n",
        "erebaltor theend 7. Vargavinter (The End Part III)\n",
        "eternaltearsofsorrow"
       ]
      },
      {
       "output_type": "stream",
       "stream": "stdout",
       "text": [
        " beforethebleedingsun 7. Lost Rune Of Thunder\n",
        "evilscarecrow"
       ]
      },
      {
       "output_type": "stream",
       "stream": "stdout",
       "text": [
        " crowcifiction 6. Thor Vs Ra\n",
        "125\n",
        "569\n",
        "eyeofodin"
       ]
      },
      {
       "output_type": "stream",
       "stream": "stdout",
       "text": [
        " winterborn 3. Endless Horizon\n",
        "eyeofodin winterborn 4. Saga Of The Winterborn Part I: Lord Of The Wolves\n",
        "eyeofodin winterborn 6. Saga Of The Winterborn Part III: Son Of The North\n",
        "eyeofodin winterborn 7. The Hall At The End Of The Earth\n",
        "falkenbach"
       ]
      },
      {
       "output_type": "stream",
       "stream": "stdout",
       "text": [
        " asa 12. Return To Ultima Thule\n",
        "130\n",
        "614\n",
        "falkenbach entheirmedhrikifara 1. Heathenpride\n",
        "falkenbach entheirmedhrikifara 2. Ultima Thule\n",
        "falkenbach entheirmedhrikifara 3. Winternight\n",
        "fferyllt"
       ]
      },
      {
       "output_type": "stream",
       "stream": "stdout",
       "text": [
        " 20915 3. Brothers Of North\n",
        "fferyllt 20915 8. The Symphony Of Ice And Flames\n",
        "135\n",
        "654\n",
        "fimbulthier"
       ]
      },
      {
       "output_type": "stream",
       "stream": "stdout",
       "text": [
        " thebattlebegins 2. Blinded By Hypocrisy\n",
        "fimbulthier thebattlebegins 3. Predators In A Human Shape\n",
        "fimbulthier thebattlebegins 4. March And Fight\n",
        "fimbulthier thebattlebegins 6. Battlesong\n",
        "fimbulthier thebattlebegins 7. ...And Thousand Men Will Die\n",
        "140\n",
        "660\n",
        "fimbulthier thebattlebegins 8. Our Quest\n",
        "fisthammer"
       ]
      },
      {
       "output_type": "stream",
       "stream": "stdout",
       "text": [
        " devourallyousee 7. Doom Of The Gods\n",
        "folkearth"
       ]
      },
      {
       "output_type": "stream",
       "stream": "stdout",
       "text": [
        " anordicpoem 2. Wolfsong In Moonlight (Fenris Unbound)\n",
        "folkearth anordicpoem 4. Rhyming With Thunder\n",
        "folkearth anordicpoem 6. In Odin's Court\n",
        "145\n",
        "695\n",
        "folkearth anordicpoem 7. Storm Ravens Come\n",
        "folkearth"
       ]
      },
      {
       "output_type": "stream",
       "stream": "stdout",
       "text": [
        " bytheswordofmyfather 7. Skaldic Art\n",
        "folkearth bytheswordofmyfather 15. A Tribute To The Viking Gods\n",
        "folkearth drakkarsinthemist 4. Grimnismol (The Ballad Of Grimnir)\n",
        "folkearth drakkarsinthemist 6. Sworn To The Raven\n",
        "150"
       ]
      },
      {
       "output_type": "stream",
       "stream": "stdout",
       "text": [
        "\n",
        "722\n",
        "folkearth drakkarsinthemist 8. Drakkars In The Mist\n",
        "folkearth drakkarsinthemist 12. When Long Ships Arrive\n",
        "folkearth drakkarsinthemist 14. Thunders Of War\n",
        "folkearth fatherland 3. Guardian Of The Bridge\n",
        "folkearth"
       ]
      },
      {
       "output_type": "stream",
       "stream": "stdout",
       "text": [
        " fatherofvictory 6. The Will Of Odin\n",
        "155\n",
        "753\n",
        "folkearth minstrelsbytheriver 5. Set Sails To Conquer!\n",
        "folkearth"
       ]
      },
      {
       "output_type": "stream",
       "stream": "stdout",
       "text": [
        " rulersofthesea 2. Rulers Of The Sea\n",
        "folkearth rulersofthesea 8. I Am Fire\n",
        "folkearth"
       ]
      },
      {
       "output_type": "stream",
       "stream": "stdout",
       "text": [
        " songsofyore 7. The Will Of Odin\n",
        "folkearth songsofyore 11. Homus Paganus\n",
        "160\n",
        "790\n",
        "folkearth sonsofthenorth 1. Sons Of The North\n",
        "folkearth sonsofthenorth 2. Rider On The Winds\n",
        "folkearth"
       ]
      },
      {
       "output_type": "stream",
       "stream": "stdout",
       "text": [
        " sonsofthenorth 5. Wind Of Conquest\n",
        "folkearth sonsofthenorth 6. Ravens On The Wing\n",
        "folkearth sonsofthenorth 7. Odin Wills It\n",
        "165\n",
        "823\n",
        "folkearth valhallaascendant 1. Valhalla Ascendant\n",
        "folkearth valhallaascendant 2. Solstice Fires\n",
        "folkearth valhallaascendant 3. No Mercy\n",
        "folkearth"
       ]
      },
      {
       "output_type": "stream",
       "stream": "stdout",
       "text": [
        " valhallaascendant 5. Hrolfr, The Viking\n",
        "folkearth valhallaascendant 7. The Brave\n",
        "170\n",
        "852\n",
        "folkodia"
       ]
      },
      {
       "output_type": "stream",
       "stream": "stdout",
       "text": [
        " inatimeoflegends 1. The Oath\n",
        "folkodia odesfromthepast 1. Thus A Viking Dies\n",
        "folkodia odesfromthepast 3. Into Battle\n",
        "folkodia odesfromthepast 4. The Malevolent\n",
        "folkodia"
       ]
      },
      {
       "output_type": "stream",
       "stream": "stdout",
       "text": [
        " odesfromthepast 6. High Up In the Sky\n",
        "175\n",
        "873\n",
        "folkodia odesfromthepast 7. Bound for Valhalla\n",
        "folkodia odesfromthepast 8. The Swords Of King Harald Iii\n",
        "frostlikeashes"
       ]
      },
      {
       "output_type": "stream",
       "stream": "stdout",
       "text": [
        " borntopieces 2. Pale Shadows\n",
        "frostlikeashes"
       ]
      },
      {
       "output_type": "stream",
       "stream": "stdout",
       "text": [
        " tophet 8. Shattered Gods\n",
        "gaiaepicus"
       ]
      },
      {
       "output_type": "stream",
       "stream": "stdout",
       "text": [
        " damnation 2. Masters Of The Sea\n",
        "180\n",
        "919\n",
        "grandmagus"
       ]
      },
      {
       "output_type": "stream",
       "stream": "stdout",
       "text": [
        " thehunt 7. Son Of The Last Breath: Part I -- Nattf\u00f6dd, Part II -- Vederg\u00e4llning\n",
        "graveland"
       ]
      },
      {
       "output_type": "stream",
       "stream": "stdout",
       "text": [
        " willstrongerthandeath 6. Victoria Divina\n",
        "hagalazrunedance"
       ]
      },
      {
       "output_type": "stream",
       "stream": "stdout",
       "text": [
        " thewindsthatsangofmidgardsfate 7. A Tale Of Fate (Folkswang Awaits)\n",
        "hagalazrunedance volven 2. Seeker Divine\n",
        "hammerhorde"
       ]
      },
      {
       "output_type": "stream",
       "stream": "stdout",
       "text": [
        " underthemightyoath 2. Pierced By Odin's Spear\n",
        "185\n",
        "936\n",
        "hammerhorde underthemightyoath 7. Triumph Of Sword And Shield\n",
        "hammerhorde"
       ]
      },
      {
       "output_type": "stream",
       "stream": "stdout",
       "text": [
        " vinlander 2. Vinlander\n",
        "hammerhorde"
       ]
      },
      {
       "output_type": "stream",
       "stream": "stdout",
       "text": [
        " vinlander 9. Midg\u00e5rdian Revelry\n",
        "hate"
       ]
      },
      {
       "output_type": "stream",
       "stream": "stdout",
       "text": [
        " anaclasisahauntinggospelofmalicehatred 8. Fountains Of Blood To Reach Heavens\n",
        "hazyhamlet"
       ]
      },
      {
       "output_type": "stream",
       "stream": "stdout",
       "text": [
        " forgingmetal 7. Chrome Heart\n",
        "190\n",
        "1030\n",
        "hazyhamlet forgingmetal 8. Chariot Of Thor\n",
        "hazyhamlet fullthrottle 5. Jaws Of Fenris\n",
        "hazyhamlet"
       ]
      },
      {
       "output_type": "stream",
       "stream": "stdout",
       "text": [
        " fullthrottle 6. Odin's Ride\n",
        "hazyhamlet"
       ]
      },
      {
       "output_type": "stream",
       "stream": "stdout",
       "text": [
        " hazytales 4. The Knight And The Silver Moon\n",
        "heathenforayaustria"
       ]
      },
      {
       "output_type": "stream",
       "stream": "stdout",
       "text": [
        " thepassage 1. Fading Tree\n",
        "195\n",
        "1056\n",
        "heathenforayaustria thepassage 7. Ancient Secrets\n",
        "heavyload"
       ]
      },
      {
       "output_type": "stream",
       "stream": "stdout",
       "text": [
        " fullspeedathighlevel 8. Son Of The Northern Light\n",
        "heavyload strongerthanevil 3. Singing Swords\n",
        "heimdall"
       ]
      },
      {
       "output_type": "stream",
       "stream": "stdout",
       "text": [
        " lordofthesky 5. Bifr\u00f6st\n",
        "heimdall lordofthesky 9. Fall Of The Bridge\n",
        "200\n",
        "1065\n",
        "helheim"
       ]
      },
      {
       "output_type": "stream",
       "stream": "stdout",
       "text": [
        " avnorrntt 7. Av Norr\u00f8n \u00c6tt\n",
        "helheim blodampild 2. Evig\n",
        "helheim blodampild 4. Jernskogen (Full-Length Mix)\n",
        "helheim blodampild 5. \u00c5sg\u00e5rdsreien\n",
        "helheim blodampild 7. Odins M\u00f8y\n",
        "205\n",
        "1089\n",
        "helheim"
       ]
      },
      {
       "output_type": "stream",
       "stream": "stdout",
       "text": [
        " sgrdsfall 6. Jernskogen (2010 Version)\n",
        "helheim terrorveldet 2. Jernskogen\n",
        "hell"
       ]
      },
      {
       "output_type": "stream",
       "stream": "stdout",
       "text": [
        " curseandchapter 8. Something Wicked This Way Comes\n",
        "hellwell"
       ]
      },
      {
       "output_type": "stream",
       "stream": "stdout",
       "text": [
        " beyondtheboundariesofsin 2. Eaters Of The Dead\n",
        "himinbjrg"
       ]
      },
      {
       "output_type": "stream",
       "stream": "stdout",
       "text": [
        " intheravensshadow 2. Thiazi's \u00d8yne\n",
        "210\n",
        "1106\n",
        "himinbjrg intheravensshadow 6. Rising\n",
        "hinonde"
       ]
      },
      {
       "output_type": "stream",
       "stream": "stdout",
       "text": [
        " songsofbattle 3. The Rune-Singer's Path\n",
        "holygrail"
       ]
      },
      {
       "output_type": "stream",
       "stream": "stdout",
       "text": [
        " crisisinutopia 3. Call Of Valhala\n",
        "holymartyr"
       ]
      },
      {
       "output_type": "stream",
       "stream": "stdout",
       "text": [
        " hatredandwarlust 3. Hatred Is My Strength\n",
        "holymartyr hatredandwarlust 4. Son Of A King\n",
        "215\n",
        "1119\n",
        "hrossharsgrani"
       ]
      },
      {
       "output_type": "stream",
       "stream": "stdout",
       "text": [
        " ofbattlesravensandfire 3. The Prayer\n",
        "hrossharsgrani ofbattlesravensandfire 4. March Of The Einherjer\n",
        "hrossharsgrani ofbattlesravensandfire 7. Gjallarhorn\n",
        "icsvortex"
       ]
      },
      {
       "output_type": "stream",
       "stream": "stdout",
       "text": [
        " stormseeker 2. Odin's Tree\n",
        "inbattle"
       ]
      },
      {
       "output_type": "stream",
       "stream": "stdout",
       "text": [
        " soulmetamorphosis 4. King God\n",
        "220\n",
        "1137\n",
        "inbattle welcometothebattlefield 10. King God\n",
        "incursed"
       ]
      },
      {
       "output_type": "stream",
       "stream": "stdout",
       "text": [
        " fimbulwinter 4. J\u00f6rmungandr\n",
        "inkubussukkubus"
       ]
      },
      {
       "output_type": "stream",
       "stream": "stdout",
       "text": [
        " wild 8. Storm\n",
        "inquisition"
       ]
      },
      {
       "output_type": "stream",
       "stream": "stdout",
       "text": [
        " nefariousdismalorations 3. Strike Of The Morning Star\n",
        "ironfire"
       ]
      },
      {
       "output_type": "stream",
       "stream": "stdout",
       "text": [
        " bladeoftriumph 11. Blade Of Triumph\n",
        "225\n",
        "1147\n",
        "ironfire"
       ]
      },
      {
       "output_type": "stream",
       "stream": "stdout",
       "text": [
        " tothegrave 6. March Of The Immortals\n",
        "ironfire tothegrave 9. Hail To Odin\n",
        "ironmask"
       ]
      },
      {
       "output_type": "stream",
       "stream": "stdout",
       "text": [
        " hordesofthebrave 9. Iced Wind Of The North\n",
        "iskald"
       ]
      },
      {
       "output_type": "stream",
       "stream": "stdout",
       "text": [
        " nedomognord 5. Nidingsd\u00e5d\n",
        "iskald shadesofmisery 5. D\u00e5 Gjallarhorn Song\n",
        "230"
       ]
      },
      {
       "output_type": "stream",
       "stream": "stdout",
       "text": [
        "\n",
        "1153\n",
        "iskald shadesofmisery 6. Pesten\n",
        "judaspriest"
       ]
      },
      {
       "output_type": "stream",
       "stream": "stdout",
       "text": [
        " redeemerofsouls 3. Halls Of Valhalla\n",
        "kingofasgard"
       ]
      },
      {
       "output_type": "stream",
       "stream": "stdout",
       "text": [
        " fimbulvintr 7. Snake Tongue\n",
        "kingofasgard fimbulvintr 8. Brethren Of The North\n",
        "kingofasgard fimbulvintr 12. Strike Of The Hammer\n",
        "235\n",
        "1159\n",
        "kingparrot"
       ]
      },
      {
       "output_type": "stream",
       "stream": "stdout",
       "text": [
        " biteyourheadoff 3. Shit On The Liver\n",
        "krigerewolf"
       ]
      },
      {
       "output_type": "stream",
       "stream": "stdout",
       "text": [
        " theancientculturetokill 7. Died In Battle / Death's Litanies (Outro)\n",
        "kromlek"
       ]
      },
      {
       "output_type": "stream",
       "stream": "stdout",
       "text": [
        " strangerrumoursdistanttremors 7. Strandhagg I - Approaching Longboats\n",
        "leaveseyes"
       ]
      },
      {
       "output_type": "stream",
       "stream": "stdout",
       "text": [
        " legendland 4. The Crossing\n",
        "legendaaurea"
       ]
      },
      {
       "output_type": "stream",
       "stream": "stdout",
       "text": [
        " sedna 6. Years Of Coldness\n",
        "240\n",
        "1178\n",
        "lemuria"
       ]
      },
      {
       "output_type": "stream",
       "stream": "stdout",
       "text": [
        " talesaleandfire 5. Thor's Hammer\n",
        "lextalion"
       ]
      },
      {
       "output_type": "stream",
       "stream": "stdout",
       "text": [
        " funeralintheforest 3. Blood & Mead\n",
        "lextalion funeralintheforest 5. Ode To A Fallen Warrior\n",
        "lextalion funeralintheforest 9. Balder (Introduction)\n",
        "lextalion funeralintheforest 10. The Legacy Of Balder\n",
        "245\n",
        "1228\n",
        "liarofgolgotha"
       ]
      },
      {
       "output_type": "stream",
       "stream": "stdout",
       "text": [
        " ancientwars 8. Ways Of The Wind\n",
        "lionspride"
       ]
      },
      {
       "output_type": "stream",
       "stream": "stdout",
       "text": [
        " standanddefend 4. Germania\n",
        "lonewolf"
       ]
      },
      {
       "output_type": "stream",
       "stream": "stdout",
       "text": [
        " thefourthandfinalhorseman 4. Time For War\n",
        "lonewolf thefourthandfinalhorseman 6. Dragonriders\n",
        "lordianguard"
       ]
      },
      {
       "output_type": "stream",
       "stream": "stdout",
       "text": [
        " lordianguard 2. Winds Of Thor\n",
        "250\n",
        "1283\n",
        "lostintears"
       ]
      },
      {
       "output_type": "stream",
       "stream": "stdout",
       "text": [
        " tonoavail 11. Summer Rain\n",
        "lumsk"
       ]
      },
      {
       "output_type": "stream",
       "stream": "stdout",
       "text": [
        " troll 5. Allvis\n",
        "magickingdom"
       ]
      },
      {
       "output_type": "stream",
       "stream": "stdout",
       "text": [
        " symphonyofwar 5. In The Name Of Heathen Gods\n",
        "manegarm"
       ]
      },
      {
       "output_type": "stream",
       "stream": "stdout",
       "text": [
        " legionsofthenorth 2. Legions Of The North\n",
        "manegarm"
       ]
      },
      {
       "output_type": "stream",
       "stream": "stdout",
       "text": [
        " vargstenen 10. Vargstenen\n",
        "255\n",
        "1318\n",
        "manegarm vredenstid 2. Sigrblot\n",
        "manillaroad"
       ]
      },
      {
       "output_type": "stream",
       "stream": "stdout",
       "text": [
        " atlantisrising 7. Flight Of The Ravens\n",
        "manillaroad atlantisrising 8. March Of The Gods\n",
        "manillaroad atlantisrising 9. Siege Of Atland\n",
        "manillaroad atlantisrising 10. War Of The Gods\n",
        "260\n",
        "1356\n",
        "manillaroad crystallogic 10. Flaming Metal Systems\n",
        "manillaroad"
       ]
      },
      {
       "output_type": "stream",
       "stream": "stdout",
       "text": [
        " gatesoffire 3. When Giants Fall\n",
        "manillaroad"
       ]
      },
      {
       "output_type": "stream",
       "stream": "stdout",
       "text": [
        " mysterium 1. The Grey God Passes\n",
        "manillaroad mysterium 6. Only The Brave\n",
        "manillaroad mystification 9. Death By The Hammer\n",
        "265\n",
        "1361\n",
        "manillaroad"
       ]
      },
      {
       "output_type": "stream",
       "stream": "stdout",
       "text": [
        " playgroundofthedamned 8. Art Of War\n",
        "manillaroad"
       ]
      },
      {
       "output_type": "stream",
       "stream": "stdout",
       "text": [
        " thecourtsofchaos 4. Into The Courts Of Chaos\n",
        "manillaroad thedeluge 9. Friction In Mass\n",
        "manillaroad"
       ]
      },
      {
       "output_type": "stream",
       "stream": "stdout",
       "text": [
        " voyager 1. Tomb Of The Serpent King / Butchers Of The Sea\n",
        "manillaroad voyager 4. Blood Eagle\n",
        "270\n",
        "1366\n",
        "manillaroad voyager 5. Voyager\n",
        "manillaroad voyager 6. Eye Of The Storm\n",
        "manillaroad voyager 7. Return Of The Serpent King\n",
        "manowar"
       ]
      },
      {
       "output_type": "stream",
       "stream": "stdout",
       "text": [
        " godsofwar 5. Sleipnir\n",
        "manowar godsofwar 6. Loki God Of Fire\n",
        "275\n",
        "1376\n",
        "manowar godsofwar 9. The Blood Of Odin\n",
        "manowar godsofwar 10. The Sons Of Odin\n",
        "manowar godsofwar 11. Glory Majesty Unity\n",
        "manowar godsofwar 12. Gods Of War\n",
        "manowar"
       ]
      },
      {
       "output_type": "stream",
       "stream": "stdout",
       "text": [
        " godsofwar 15. Hymn Of The Immortal Warriors\n",
        "280\n",
        "1410\n",
        "manowar hailtoengland 3. Kill With Power\n",
        "manowar"
       ]
      },
      {
       "output_type": "stream",
       "stream": "stdout",
       "text": [
        " hellonwheelslive 3. Kill With Power\n",
        "manowar hellonwheelslive 17. Thor (The Powerhead)\n",
        "manowar"
       ]
      },
      {
       "output_type": "stream",
       "stream": "stdout",
       "text": [
        " intogloryride 4. Gates Of Valhalla\n",
        "manowar kingsofmetal 5. The Crown And The Ring (Lament Of The Kings)\n",
        "285\n",
        "1438\n",
        "manowar"
       ]
      },
      {
       "output_type": "stream",
       "stream": "stdout",
       "text": [
        " signofthehammer 3. Thor (The Powerhead)\n",
        "manowar sonsofodin 4. Gods Of War (Immortal Version)\n",
        "manowar sonsofodin 5. The Sons Of Odin (Immortal Version)\n",
        "manowar"
       ]
      },
      {
       "output_type": "stream",
       "stream": "stdout",
       "text": [
        " thelordofsteel 4. Righteous Glory\n",
        "manowar thelordofsteel 10. Hail, Kill And Die\n",
        "290\n",
        "1467\n",
        "manowar"
       ]
      },
      {
       "output_type": "stream",
       "stream": "stdout",
       "text": [
        " thunderinthesky 5. The Crown And The Ring (Lament Of The Kings) (Metal Version)\n",
        "manowar"
       ]
      },
      {
       "output_type": "stream",
       "stream": "stdout",
       "text": [
        " warriorsoftheworld 5. Swords In The Wind\n",
        "manowar warriorsoftheworld 9. Hand Of Doom\n",
        "manowar warriorsoftheworld 11. Fight Until We Die\n",
        "martyrium"
       ]
      },
      {
       "output_type": "stream",
       "stream": "stdout",
       "text": [
        " thecarnagelitbydarkness 7. Scene II \u2013 Mina\n",
        "295\n",
        "1478\n",
        "mastodon"
       ]
      },
      {
       "output_type": "stream",
       "stream": "stdout",
       "text": [
        " leviathan 4. \u00cdsland\n",
        "messenger"
       ]
      },
      {
       "output_type": "stream",
       "stream": "stdout",
       "text": [
        " seeyouinhell 11. Valkyries\n",
        "messenger seeyouinhell 12. Land Of The Brave\n",
        "messiah"
       ]
      },
      {
       "output_type": "stream",
       "stream": "stdout",
       "text": [
        " underground 8. Epitaph\n",
        "messiah underground 10. Battle In The Ancient North\n",
        "300\n",
        "1494\n",
        "metalium"
       ]
      },
      {
       "output_type": "stream",
       "stream": "stdout",
       "text": [
        " heronation 5. Odin's Spell\n",
        "milesbeyond"
       ]
      },
      {
       "output_type": "stream",
       "stream": "stdout",
       "text": [
        " milesbeyond 12. A Call To Odin\n",
        "mistweaver"
       ]
      },
      {
       "output_type": "stream",
       "stream": "stdout",
       "text": [
        " solobscurabitur 1. Thy Empire Is Mine Again\n",
        "monstermagnet"
       ]
      },
      {
       "output_type": "stream",
       "stream": "stdout",
       "text": [
        " superjudge 1. Cyclops Revolution\n",
        "moonsorrow"
       ]
      },
      {
       "output_type": "stream",
       "stream": "stdout",
       "text": [
        " mets 2. Fimbulvetr Frost\n",
        "305\n",
        "1507\n",
        "moonsorrow mets 3. Hvergelmir\n",
        "moria"
       ]
      },
      {
       "output_type": "stream",
       "stream": "stdout",
       "text": [
        " nolightahead 6. On The Eve....\n",
        "morkriket"
       ]
      },
      {
       "output_type": "stream",
       "stream": "stdout",
       "text": [
        " hellwards 7. Wading Through Christian Blood\n",
        "morningstar"
       ]
      },
      {
       "output_type": "stream",
       "stream": "stdout",
       "text": [
        " hereticmetal 7. Bloody Hammer\n",
        "morphia"
       ]
      },
      {
       "output_type": "stream",
       "stream": "stdout",
       "text": [
        " unfulfilleddreams 5. Thor's Symphony\n",
        "310\n",
        "1523\n",
        "myrkgrav"
       ]
      },
      {
       "output_type": "stream",
       "stream": "stdout",
       "text": [
        " trollskauskrmtogklabrenning 5. Olav Tryggvason\n",
        "mysticcircle"
       ]
      },
      {
       "output_type": "stream",
       "stream": "stdout",
       "text": [
        " drachenblut 7. Hagen Von Tronje\n",
        "mysticcircle"
       ]
      },
      {
       "output_type": "stream",
       "stream": "stdout",
       "text": [
        " kriegsgtterii 2. Die G\u00f6tter Der Urv\u00e4ter\n",
        "nachtfalke"
       ]
      },
      {
       "output_type": "stream",
       "stream": "stdout",
       "text": [
        " doomedtodie 1. Valhalla\n",
        "nachtfalke doomedtodie 5. Einherjer (Doomed to Die)\n",
        "315\n",
        "1534\n",
        "nachtfalke hailvictoryteutonia 1. Ode To The Fallen One\n",
        "nachtfalke hailvictoryteutonia 4. War In Asgard\n",
        "nachtfalke hailvictoryteutonia 6. Warriors Nightmare\n",
        "nachtfalke hailvictoryteutonia 9. Nordic Warriors\n",
        "nachtfalke landoffrost 1. The Windlords\n",
        "320\n",
        "1541\n",
        "nachtfalke landoffrost 2. Ragnarok\n",
        "nachtfalke"
       ]
      },
      {
       "output_type": "stream",
       "stream": "stdout",
       "text": [
        " landoffrost 3. Berserk\n",
        "necromantia"
       ]
      },
      {
       "output_type": "stream",
       "stream": "stdout",
       "text": [
        " ancientpride 2. Ancient Pride\n",
        "nightfall"
       ]
      },
      {
       "output_type": "stream",
       "stream": "stdout",
       "text": [
        " eonsaura 4. Thor\n",
        "nightmare6228"
       ]
      },
      {
       "output_type": "stream",
       "stream": "stdout",
       "text": [
        " highspeedvenom 5. The King Is Gone\n",
        "325\n",
        "1559\n",
        "nomansland"
       ]
      },
      {
       "output_type": "stream",
       "stream": "stdout",
       "text": [
        " farnord 2. Valhalla Calls\n",
        "nomansland farnord 3. Nornorheim\n",
        "nomansland farnord 5. Land Of A Cold Flame\n",
        "nomansland farnord 9. Voice Of Battle\n",
        "nomansland hammerfrost 1. Lord Of The Seas\n",
        "330\n",
        "1569\n",
        "nomansland hammerfrost 2. Konung\n",
        "nomansland hammerfrost 10. Balfor\n",
        "nomansland"
       ]
      },
      {
       "output_type": "stream",
       "stream": "stdout",
       "text": [
        " ravenflight 2. Sea Battlefield\n",
        "nomansland ravenflight 4. Bridge Warder\n",
        "nomansland ravenflight 5. Mjolnir\n",
        "335\n",
        "1576\n",
        "nordheim6664"
       ]
      },
      {
       "output_type": "stream",
       "stream": "stdout",
       "text": [
        " lostinthenorth 3. Far Away\n",
        "nordheim6664 lostinthenorth 6. Glorious March\n",
        "nordheim6664 refill 4. Watch The Raven Die\n",
        "nordvykk"
       ]
      },
      {
       "output_type": "stream",
       "stream": "stdout",
       "text": [
        " nordland 2. Ragnarock\n",
        "nordvykk nordland 3. Heldengrab\n",
        "340\n",
        "1610\n",
        "nothgard"
       ]
      },
      {
       "output_type": "stream",
       "stream": "stdout",
       "text": [
        " warhornsofmidgard 12. Ragnar\u00f6k\n",
        "oakenshield"
       ]
      },
      {
       "output_type": "stream",
       "stream": "stdout",
       "text": [
        " gylfaginning 7. Valhalla\n",
        "oakenshield gylfaginning 8. Utgarda-Loki\n",
        "oakenshield gylfaginning 9. Hymir\n",
        "oakenshield gylfaginning 11. Vigrid\n",
        "345\n",
        "1633\n",
        "ofthewandandthemoon"
       ]
      },
      {
       "output_type": "stream",
       "stream": "stdout",
       "text": [
        " sonnenheim 2. Nithtime In Sonnenheim\n",
        "oldseason"
       ]
      },
      {
       "output_type": "stream",
       "stream": "stdout",
       "text": [
        " archaiccreation 5. Bitter Is The Wind\n",
        "omnia"
       ]
      },
      {
       "output_type": "stream",
       "stream": "stdout",
       "text": [
        " croneofwar 7. Taranis\n",
        "omnia"
       ]
      },
      {
       "output_type": "stream",
       "stream": "stdout",
       "text": [
        " wolflove 12. Taranis Jupiter\n",
        "operaix"
       ]
      },
      {
       "output_type": "stream",
       "stream": "stdout",
       "text": [
        " maleventum 7. In The Raven's Eye\n",
        "350\n",
        "1661\n",
        "orangegoblin"
       ]
      },
      {
       "output_type": "stream",
       "stream": "stdout",
       "text": [
        " backfromtheabyss 5. Heavy Lies The Crown\n",
        "orthanc"
       ]
      },
      {
       "output_type": "stream",
       "stream": "stdout",
       "text": [
        " tillthevictory 5. Einherjer\n",
        "ossastorium"
       ]
      },
      {
       "output_type": "stream",
       "stream": "stdout",
       "text": [
        " expergo 2. Aeons Of Chaos\n",
        "panopticon"
       ]
      },
      {
       "output_type": "stream",
       "stream": "stdout",
       "text": [
        " collapse 4. Idavoll\n",
        "panopticon"
       ]
      },
      {
       "output_type": "stream",
       "stream": "stdout",
       "text": [
        " panopticon 5. The Lay Of Grimnir\n",
        "355\n",
        "1706\n",
        "prophanity"
       ]
      },
      {
       "output_type": "stream",
       "stream": "stdout",
       "text": [
        " messengerofthenorthernwarriorhost 2. To The Land Beyond The Poisoned Sea\n",
        "prophanity messengerofthenorthernwarriorhost 3. Through A Winter Landscape\n",
        "prophanity messengerofthenorthernwarriorhost 4. Messenger Of The Northern Warrior Host\n",
        "prophanity strongerthansteel 2. Walking Through Fire\n",
        "prophanity thebattleroar 1. Walking Through Fire\n",
        "360\n",
        "1711\n",
        "ragnarok"
       ]
      },
      {
       "output_type": "stream",
       "stream": "stdout",
       "text": [
        " nattferd 8. Minner Om Svunne Tider\n",
        "ragnarokuk"
       ]
      },
      {
       "output_type": "stream",
       "stream": "stdout",
       "text": [
        " tomendtheoakenheart 6. Where Once Ravens...\n",
        "ragnarokuk tomendtheoakenheart 8. Heartfire And Forge\n",
        "raisingfear"
       ]
      },
      {
       "output_type": "stream",
       "stream": "stdout",
       "text": [
        " mythos 1. Thor\n",
        "rammingspeed"
       ]
      },
      {
       "output_type": "stream",
       "stream": "stdout",
       "text": [
        " brainwreck 12. A Modern Myth\n",
        "365\n",
        "1794\n",
        "rebellion"
       ]
      },
      {
       "output_type": "stream",
       "stream": "stdout",
       "text": [
        " arisefromginnungagaptoragnarkhistoryofthevikingsvoliii 1. War\n",
        "rebellion arisefromginnungagaptoragnarkhistoryofthevikingsvoliii 4. Odin\n",
        "rebellion arisefromginnungagaptoragnarkhistoryofthevikingsvoliii 6. Bolverk\n",
        "rebellion arisefromginnungagaptoragnarkhistoryofthevikingsvoliii 7. Thor\n",
        "rebellion arisefromginnungagaptoragnarkhistoryofthevikingsvoliii 8. Evil\n",
        "370\n",
        "1799\n",
        "rebellion arisefromginnungagaptoragnarkhistoryofthevikingsvoliii 9. Loki\n",
        "rebellion arisefromginnungagaptoragnarkhistoryofthevikingsvoliii 11. Ragnar\u00f6k\n",
        "rebellion arisefromginnungagaptoragnarkhistoryofthevikingsvoliii 12. Einherjar\n",
        "rebellion"
       ]
      },
      {
       "output_type": "stream",
       "stream": "stdout",
       "text": [
        " bornarebel 5. Dragons Fly\n",
        "rebellion miklagardthehistoryofthevikingsvolumeii 2. Sweden\n",
        "375\n",
        "1804\n",
        "rebellion miklagardthehistoryofthevikingsvolumeii 3. Free\n",
        "rebellion miklagardthehistoryofthevikingsvolumeii 8. Aifur\n",
        "rebellion"
       ]
      },
      {
       "output_type": "stream",
       "stream": "stdout",
       "text": [
        " miklagardthehistoryofthevikingsvolumeii 10. God Of Thunder\n",
        "rebellion miklagardthehistoryofthevikingsvolumeii 11. Our Backs To The Wind\n",
        "rebellion miklagardthehistoryofthevikingsvolumeii 13. The Uprising\n",
        "380\n",
        "1810\n",
        "rebellion sagasoficelandthehistoryofthevikingsvolumei 2. Ynglinga Saga (To Odin We Call)\n",
        "rebellion sagasoficelandthehistoryofthevikingsvolumei 4. Ragnhild's Dream\n",
        "rebellion sagasoficelandthehistoryofthevikingsvolumei 5. Harald Harfager\n",
        "rebellion"
       ]
      },
      {
       "output_type": "stream",
       "stream": "stdout",
       "text": [
        " sagasoficelandthehistoryofthevikingsvolumei 6. Eric The Red\n",
        "rebellion sagasoficelandthehistoryofthevikingsvolumei 9. Sword In The Storm\n",
        "385\n",
        "1830\n",
        "rebellion sagasoficelandthehistoryofthevikingsvolumei 10. Blood Rains\n",
        "rebellion sagasoficelandthehistoryofthevikingsvolumei 11. Ruling The Waves\n",
        "rebellion theclansaremarching 3. Ragnar\u00f6k\n",
        "reverendbizarre"
       ]
      },
      {
       "output_type": "stream",
       "stream": "stdout",
       "text": [
        " knockemdowntosizepartisolsticereverendbizarrespiritusmortistorturedspiritupwardsofendtimegriftegrd 1. Odinn's Men\n",
        "rhymesofdestruction"
       ]
      },
      {
       "output_type": "stream",
       "stream": "stdout",
       "text": [
        " requieminremembranceofyourgods 4. Requiem - Burying Your Gods Forever\n",
        "390\n",
        "1840\n",
        "sabaton"
       ]
      },
      {
       "output_type": "stream",
       "stream": "stdout",
       "text": [
        " carolusrex 12. Twilight Of The Thundergod\n",
        "sabaton"
       ]
      },
      {
       "output_type": "stream",
       "stream": "stdout",
       "text": [
        " fistforfight 9. Thunderstorm\n",
        "sabaton"
       ]
      },
      {
       "output_type": "stream",
       "stream": "stdout",
       "text": [
        " heroes 11. Man Of War\n",
        "sabaton metalizer 9. Thunderstorm\n",
        "sabaton"
       ]
      },
      {
       "output_type": "stream",
       "stream": "stdout",
       "text": [
        " theartofwar 14. Swedish Pagans\n",
        "395\n",
        "1860\n",
        "saille"
       ]
      },
      {
       "output_type": "stream",
       "stream": "stdout",
       "text": [
        " ritu 8. Runaljod\n",
        "sanctifica"
       ]
      },
      {
       "output_type": "stream",
       "stream": "stdout",
       "text": [
        " negativeb 2. Stardust Inc.\n",
        "satan"
       ]
      },
      {
       "output_type": "stream",
       "stream": "stdout",
       "text": [
        " courtintheact 3. Blades Of Steel\n",
        "scarcross"
       ]
      },
      {
       "output_type": "stream",
       "stream": "stdout",
       "text": [
        " confessions 4. Dethroned God\n",
        "sevenkingdoms"
       ]
      },
      {
       "output_type": "stream",
       "stream": "stdout",
       "text": [
        " sevenkingdoms 5. Vengeance By The Sons Of A King\n",
        "400\n",
        "1872\n",
        "shadowlord"
       ]
      },
      {
       "output_type": "stream",
       "stream": "stdout",
       "text": [
        " shadowlord 7. Triumph\n",
        "sigartyr"
       ]
      },
      {
       "output_type": "stream",
       "stream": "stdout",
       "text": [
        " godsaga 1. Nights All Nine\n",
        "sigartyr godsaga 2. Midwinter Sacrifice\n",
        "sigartyr godsaga 3. Blood Of The North\n",
        "sigartyr godsaga 7. Sonatorrek\n",
        "405\n",
        "1880\n",
        "sigartyr godsaga 8. Godsaga\n",
        "sigartyr"
       ]
      },
      {
       "output_type": "stream",
       "stream": "stdout",
       "text": [
        " sailingtheseasoffate 6. The Dead Giant's Tale\n",
        "sigartyr sailingtheseasoffate 7. Urd\n",
        "sinate"
       ]
      },
      {
       "output_type": "stream",
       "stream": "stdout",
       "text": [
        " tothedeath 1. Curse Of The Blood Eagle\n",
        "smegin"
       ]
      },
      {
       "output_type": "stream",
       "stream": "stdout",
       "text": [
        " arv 1. Fandens M\u00e6lkeb\u00f8tte\n",
        "410\n",
        "1886\n",
        "smegin"
       ]
      },
      {
       "output_type": "stream",
       "stream": "stdout",
       "text": [
        " hinvordendesods 9. Vargr I V\u00e9um - Eilivs Bane\n",
        "smegin hinvordendesods 10. Blodhevn\n",
        "smegin hinvordendesods 11. Valgalder\n",
        "solefald"
       ]
      },
      {
       "output_type": "stream",
       "stream": "stdout",
       "text": [
        " blackfordeathanicelandicodysseypartii 6. Allfathers\n",
        "solefald blackfordeathanicelandicodysseypartii 12. Sagateller\n",
        "415\n",
        "1896\n",
        "solefald inharmoniauniversali 2. Mont Blanc Providence Crow\n",
        "solefald inharmoniauniversali 9. The Liberation Of Destiny\n",
        "solefald"
       ]
      },
      {
       "output_type": "stream",
       "stream": "stdout",
       "text": [
        " redforfireanicelandicodysseyparti 1. Sun I Call\n",
        "solefald redforfireanicelandicodysseyparti 2. Survival Of The Outlaw\n",
        "solefald redforfireanicelandicodysseyparti 5. White Frost Queen\n",
        "420\n",
        "1901\n",
        "solefald redforfireanicelandicodysseyparti 8. Crater Of The Valkyries\n",
        "solefald redforfireanicelandicodysseyparti 9. Sea I Called\n",
        "sorcerer"
       ]
      },
      {
       "output_type": "stream",
       "stream": "stdout",
       "text": [
        " metalowahusaryathelasthussarsofmetal 2. Heavy Metal Riders\n",
        "soulitude"
       ]
      },
      {
       "output_type": "stream",
       "stream": "stdout",
       "text": [
        " thecrawliansupremacy 7. Viking Pride\n",
        "soundstorm"
       ]
      },
      {
       "output_type": "stream",
       "stream": "stdout",
       "text": [
        " northernwilderness 5. We Are Vikings\n",
        "425\n",
        "1916\n",
        "spearoflonginus"
       ]
      },
      {
       "output_type": "stream",
       "stream": "stdout",
       "text": [
        " domnisatnasi 4. What Is It, Aton? My Side Itches!!!\n",
        "spearoflonginus domnisatnasi 7. Tribal Wars\n",
        "spectral"
       ]
      },
      {
       "output_type": "stream",
       "stream": "stdout",
       "text": [
        " barbaricassault 9. Valgrind\n",
        "spectral dawnofgods 2. Silent Slaughter\n",
        "spectral dawnofgods 10. Dawn Of Gods (Ragnar\u00f6k II)\n",
        "430\n",
        "1922\n",
        "spectral"
       ]
      },
      {
       "output_type": "stream",
       "stream": "stdout",
       "text": [
        " evilironkingdom 4. Die in Battle\n",
        "spectral evilironkingdom 6. Pagan Steel\n",
        "spectral stormriders 3. Army Of Odin\n",
        "spectral stormriders 7. Northern Storms\n",
        "spellblast"
       ]
      },
      {
       "output_type": "stream",
       "stream": "stdout",
       "text": [
        " battlecry 7. Raid Day\n",
        "435\n",
        "1937\n",
        "spellblast battlecry 8. History Of A Siege: Slaughter\n",
        "spellblast battlecry 11. Command Charge\n",
        "spellblast hornsofsilence 1. In The Name Of Odin\n",
        "starone"
       ]
      },
      {
       "output_type": "stream",
       "stream": "stdout",
       "text": [
        " liveonearth 18. The Two Gates\n",
        "stormrider"
       ]
      },
      {
       "output_type": "stream",
       "stream": "stdout",
       "text": [
        " firstbattlewon 6. Odin's Ride\n",
        "440\n",
        "1958\n",
        "stormrider luciferrising 6. Sons Of The North\n",
        "stormwarrior"
       ]
      },
      {
       "output_type": "stream",
       "stream": "stdout",
       "text": [
        " atforeignshoresliveinjapan 2. Signe Of The Warlorde\n",
        "stormwarrior atforeignshoresliveinjapan 7. Thunderer\n",
        "stormwarrior headingnorthe 2. Heading Northe\n",
        "stormwarrior"
       ]
      },
      {
       "output_type": "stream",
       "stream": "stdout",
       "text": [
        " stormwarrior 2. Signe Of The Warlorde\n",
        "445\n",
        "1978\n",
        "stormwarrior stormwarrior 8. Thunderer\n",
        "sturmgeist"
       ]
      },
      {
       "output_type": "stream",
       "stream": "stdout",
       "text": [
        " ber 6. Party \u00dcber Alles\n",
        "sturmgeist"
       ]
      },
      {
       "output_type": "stream",
       "stream": "stdout",
       "text": [
        " meistermephisto 4. Army Of Odin (Hafrsfjord)\n",
        "sunno"
       ]
      },
      {
       "output_type": "stream",
       "stream": "stdout",
       "text": [
        " white1 1. My Wall\n",
        "suprememajesty"
       ]
      },
      {
       "output_type": "stream",
       "stream": "stdout",
       "text": [
        " talesofatragickingdom 1. Strike Like Thunder\n",
        "450\n",
        "2005\n",
        "svartahrid"
       ]
      },
      {
       "output_type": "stream",
       "stream": "stdout",
       "text": [
        " asthesunriseflickers 7. Relentless\n",
        "svartahrid forthcomingstorm 6. Under Den Enoydes Trone\n",
        "svartahrid forthcomingstorm 8. Stier Av Hat\n",
        "svartahrid"
       ]
      },
      {
       "output_type": "stream",
       "stream": "stdout",
       "text": [
        " maliciouspride 3. Malicious Pride\n",
        "svartahrid sadnessandwrath 4. Sadness And Wrath\n",
        "455\n",
        "2020\n",
        "svederna"
       ]
      },
      {
       "output_type": "stream",
       "stream": "stdout",
       "text": [
        " antra 6. \u00d6verdrivet Fosterl\u00e4ndsk\n",
        "talamyus"
       ]
      },
      {
       "output_type": "stream",
       "stream": "stdout",
       "text": [
        " inthesedaysofviolence 2. Pride Of A Viking\n",
        "tearsofmagdalena"
       ]
      },
      {
       "output_type": "stream",
       "stream": "stdout",
       "text": [
        " mythsandlegends 4. The Eastway\n",
        "thedogma"
       ]
      },
      {
       "output_type": "stream",
       "stream": "stdout",
       "text": [
        " blackwidow 7. The Bride Is Back\n",
        "theflightofsleipnir"
       ]
      },
      {
       "output_type": "stream",
       "stream": "stdout",
       "text": [
        " essenceofnine 2. Upon This Path We Tread\n",
        "460\n",
        "2028\n",
        "theflightofsleipnir lore 7. No Man Will Spare Another\n",
        "thelordweirdsloughfeg"
       ]
      },
      {
       "output_type": "stream",
       "stream": "stdout",
       "text": [
        " downamongthedeadmen 1. Sky Chariots\n",
        "themeadsofasphodel"
       ]
      },
      {
       "output_type": "stream",
       "stream": "stdout",
       "text": [
        " damascussteel 7. The Gods Who Mock Us\n",
        "themeadsofasphodel exhumingthegraveofyeshua 4. 80 Grains Of Sand\n",
        "themeadsofasphodel"
       ]
      },
      {
       "output_type": "stream",
       "stream": "stdout",
       "text": [
        " nonalbumsongs Spellbound\n",
        "465\n",
        "2041\n",
        "themeadsofasphodel sonderkommando 6. Children Of The Sunwheel Banner (Part 2)\n",
        "therion"
       ]
      },
      {
       "output_type": "stream",
       "stream": "stdout",
       "text": [
        " crowningofatlantis 6. Thor\n",
        "therion"
       ]
      },
      {
       "output_type": "stream",
       "stream": "stdout",
       "text": [
        " gothickabbalah 2. Gothic Kabbalah\n",
        "therion gothickabbalah 5. Son Of The Staves Of Time\n",
        "therion gothickabbalah 11. Path To Arcady\n",
        "470\n",
        "2057\n",
        "therion gothickabbalah 12. TOF - The Trinity\n",
        "therion"
       ]
      },
      {
       "output_type": "stream",
       "stream": "stdout",
       "text": [
        " liveinmexicocity 4. Asg\u00e5rd\n",
        "therion"
       ]
      },
      {
       "output_type": "stream",
       "stream": "stdout",
       "text": [
        " liveinmidgrd 15. Asg\u00e5rd\n",
        "therion liveinmidgrd 16. The Secret Of The Runes\n",
        "therion"
       ]
      },
      {
       "output_type": "stream",
       "stream": "stdout",
       "text": [
        " secretsoftherunes 3. Asgard\n",
        "475\n",
        "2090\n",
        "therion secretsoftherunes 11. Secrets Of The Runes\n",
        "therion"
       ]
      },
      {
       "output_type": "stream",
       "stream": "stdout",
       "text": [
        " sitraahra 5. Hellequin\n",
        "thestoryteller"
       ]
      },
      {
       "output_type": "stream",
       "stream": "stdout",
       "text": [
        " darklegacy 11. Battle Of Yggdrasil\n",
        "thesword"
       ]
      },
      {
       "output_type": "stream",
       "stream": "stdout",
       "text": [
        " ageofwinters 6. Iron Swan\n",
        "thorrshammer"
       ]
      },
      {
       "output_type": "stream",
       "stream": "stdout",
       "text": [
        " dommedagsnatt 2. Troll\n",
        "480\n",
        "2133\n",
        "thouartlord"
       ]
      },
      {
       "output_type": "stream",
       "stream": "stdout",
       "text": [
        " apollyon 5. Societas Satanas\n",
        "thyrfing"
       ]
      },
      {
       "output_type": "stream",
       "stream": "stdout",
       "text": [
        " thyrfing 3. Set Sail To Plunder\n",
        "thyrfing thyrfing 6. A Burning Arrow\n",
        "thyrfing thyrfing 8. Hednaland\n",
        "thyrfing urkraft 1. Mj\u00f6lnir\n",
        "485\n",
        "2141\n",
        "thyrfing"
       ]
      },
      {
       "output_type": "stream",
       "stream": "stdout",
       "text": [
        " urkraft 7. Ways Of A Parasite\n",
        "thyrfing valdrgalga 7. Arising\n",
        "thyrfing"
       ]
      },
      {
       "output_type": "stream",
       "stream": "stdout",
       "text": [
        " valdrgalga 11. A Great Man's Return\n",
        "thyrien"
       ]
      },
      {
       "output_type": "stream",
       "stream": "stdout",
       "text": [
        " hymnsofthemortalssongsfromthenorth 4. My Victory, My Defeat\n",
        "thywicked"
       ]
      },
      {
       "output_type": "stream",
       "stream": "stdout",
       "text": [
        " wennheimdallshornerklingt 1. Pray To North\n",
        "490\n",
        "2168\n",
        "thywicked wennheimdallshornerklingt 5. Odins Host\n",
        "thywicked wennheimdallshornerklingt 9. Einherjers Fate\n",
        "tr"
       ]
      },
      {
       "output_type": "stream",
       "stream": "stdout",
       "text": [
        " land 3. G\u00e1tu R\u00edma\n",
        "tr"
       ]
      },
      {
       "output_type": "stream",
       "stream": "stdout",
       "text": [
        " ragnarok 2. The Hammer of Thor\n",
        "tr"
       ]
      },
      {
       "output_type": "stream",
       "stream": "stdout",
       "text": [
        " thelayofthrym 9. Nine Words Of Lore\n",
        "495\n",
        "2190\n",
        "trollband"
       ]
      },
      {
       "output_type": "stream",
       "stream": "stdout",
       "text": [
        " intheshadowofamountain 3. Heathen Blood\n",
        "trollband intheshadowofamountain 5. Warhellride\n",
        "turbo"
       ]
      },
      {
       "output_type": "stream",
       "stream": "stdout",
       "text": [
        " tosamo 3. Legenda Thora / Legend Of Thor\n",
        "twistedtowerdire"
       ]
      },
      {
       "output_type": "stream",
       "stream": "stdout",
       "text": [
        " crestofthemartyrs 9. Guardian Bloodline\n",
        "udo"
       ]
      },
      {
       "output_type": "stream",
       "stream": "stdout",
       "text": [
        " thunderball 9. The Magic Mirror\n",
        "500\n",
        "2213\n",
        "ulvegr"
       ]
      },
      {
       "output_type": "stream",
       "stream": "stdout",
       "text": [
        " wheretheicecoldbloodstorms 1. \u0413\u0434\u0435 \u041a\u0440\u043e\u0432\u0438 \u041b\u044c\u0434\u044f\u043d\u043e\u0439 \u0428\u0442\u043e\u0440\u043c\n",
        "unleashed"
       ]
      },
      {
       "output_type": "stream",
       "stream": "stdout",
       "text": [
        " asyggdrasiltrembles 3. As Yggdrasil Trembles\n",
        "unleashed asyggdrasiltrembles 4. Wir Kapitulieren Niemals\n",
        "unleashed asyggdrasiltrembles 5. This Time We Fight\n",
        "unleashed asyggdrasiltrembles 8. Return Fire\n",
        "505\n",
        "2237\n",
        "unleashed"
       ]
      },
      {
       "output_type": "stream",
       "stream": "stdout",
       "text": [
        " hammerbattalion 5. This Day Belongs To Me\n",
        "unleashed hammerbattalion 6. Marching Off To War\n",
        "unleashed hammerbattalion 8. Black Horizon\n",
        "unleashed hammerbattalion 9. Carved In Stone\n",
        "unleashed hammerbattalion 12. Home Of The Brave\n",
        "510\n",
        "2250\n",
        "unleashed hellsunleashed 2. Hell's Unleashed\n",
        "unleashed hellsunleashed 4. Fly Raven Fly\n",
        "unleashed"
       ]
      },
      {
       "output_type": "stream",
       "stream": "stdout",
       "text": [
        " midvinterblot 4. Midvinterblot\n",
        "unleashed midvinterblot 7. The Avenger\n",
        "unleashed midvinterblot 11. I Have Sworn Allegiance\n",
        "515\n",
        "2268\n",
        "unleashed midvinterblot 15. Valhalla Awaits\n",
        "unleashed odalheim 4. The Hour Of Defeat\n",
        "unleashed"
       ]
      },
      {
       "output_type": "stream",
       "stream": "stdout",
       "text": [
        " odalheim 8. By Celtic And British Shores\n",
        "unleashed odalheim 9. The Soil Of Our Fathers\n",
        "unleashed odalheim 11. The Great Battle Of Odalheim\n",
        "520\n",
        "2282\n",
        "unleashed shadowsinthedeep 7. Onward Into Countless Battles\n",
        "unleashed"
       ]
      },
      {
       "output_type": "stream",
       "stream": "stdout",
       "text": [
        " swornallegiance 1. Winterland\n",
        "unleashed victory 4. The Defender\n",
        "unleashed"
       ]
      },
      {
       "output_type": "stream",
       "stream": "stdout",
       "text": [
        " wherenolifedwells 7. Into Glory Ride\n",
        "unlord"
       ]
      },
      {
       "output_type": "stream",
       "stream": "stdout",
       "text": [
        " schwarzwald 10. Thunderbuilder\n",
        "525\n",
        "2288\n",
        "vader"
       ]
      },
      {
       "output_type": "stream",
       "stream": "stdout",
       "text": [
        " reignforeverworld 3. Privilege Of The Gods\n",
        "vader revelations 6. Torch Of War\n",
        "valhalla"
       ]
      },
      {
       "output_type": "stream",
       "stream": "stdout",
       "text": [
        " onceuponatime 2. Ride Of Norsemen\n",
        "vanir"
       ]
      },
      {
       "output_type": "stream",
       "stream": "stdout",
       "text": [
        " onwardsintobattle 2. Onwards Into Battle\n",
        "vanir onwardsintobattle 4. By The Hammer They Fall\n",
        "530\n",
        "2313\n",
        "vanir onwardsintobattle 8. Vinlandsf\u00e6rd\n",
        "vanir onwardsintobattle 9. Warriors Of Asgard\n",
        "vanir onwardsintobattle 10. Hlidskjalf Gynger\n",
        "vanir"
       ]
      },
      {
       "output_type": "stream",
       "stream": "stdout",
       "text": [
        " onwardsintobattle 11. Raise Your Horns\n",
        "vanir onwardsintobattle 12. Fimbul\n",
        "535\n",
        "2338\n",
        "vanir onwardsintobattle 13. Sons Of The North\n",
        "veles"
       ]
      },
      {
       "output_type": "stream",
       "stream": "stdout",
       "text": [
        " theblackravensflewagain 3. We Chopped By Swords\n",
        "veles theblackravensflewagain 4. Glory For Heroes\n",
        "vexillum"
       ]
      },
      {
       "output_type": "stream",
       "stream": "stdout",
       "text": [
        " thebivouac 9. Valhalla\n",
        "vintersorg"
       ]
      },
      {
       "output_type": "stream",
       "stream": "stdout",
       "text": [
        " tillfjlls 6. Hednad I Ulverm\u00e5nens Tecken\n",
        "540\n",
        "2360\n",
        "virginsteele"
       ]
      },
      {
       "output_type": "stream",
       "stream": "stdout",
       "text": [
        " theblacklightbacchanalia 1. By The Hammer Of Zeus (And The Wrecking Ball Of Thor)\n",
        "virginsteele"
       ]
      },
      {
       "output_type": "stream",
       "stream": "stdout",
       "text": [
        " themarriageofheavenandhellpart2 5. Rising Unchaned\n",
        "voice"
       ]
      },
      {
       "output_type": "stream",
       "stream": "stdout",
       "text": [
        " soulhunter 3. Valhalla\n",
        "warlord"
       ]
      },
      {
       "output_type": "stream",
       "stream": "stdout",
       "text": [
        " risingoutoftheashes 4. Winds of Thor\n",
        "whiteskull"
       ]
      },
      {
       "output_type": "stream",
       "stream": "stdout",
       "text": [
        " asgard 1. Asgard\n",
        "545\n",
        "2385\n",
        "whiteskull"
       ]
      },
      {
       "output_type": "stream",
       "stream": "stdout",
       "text": [
        " talesfromthenorth 2. Tales From The North\n",
        "whiteskull talesfromthenorth 3. Asgard\n",
        "whiteskull talesfromthenorth 9. Horant\n",
        "whiteskull"
       ]
      },
      {
       "output_type": "stream",
       "stream": "stdout",
       "text": [
        " theringoftheancients 10. Valhalla\n",
        "winterburst"
       ]
      },
      {
       "output_type": "stream",
       "stream": "stdout",
       "text": [
        " themindcave 3. The Immortals\n",
        "550\n",
        "2391\n",
        "wizard"
       ]
      },
      {
       "output_type": "stream",
       "stream": "stdout",
       "text": [
        " boundbymetal 1. Prolog\n",
        "wizard boundbymetal 6. A Nice Day To Die\n",
        "wizard"
       ]
      },
      {
       "output_type": "stream",
       "stream": "stdout",
       "text": [
        " headofthedeceiver 5. Defenders Of Metal\n",
        "wizard headofthedeceiver 12. Bloodsteel\n",
        "wizard magiccircle 9. Warriors Of The Night\n",
        "555\n",
        "2419\n",
        "wizard"
       ]
      },
      {
       "output_type": "stream",
       "stream": "stdout",
       "text": [
        " odin 2. The Prophecy\n",
        "wizard odin 7. Thor's Hammer\n",
        "wizard odin 8. The Hall Of Odin\n",
        "wizard odin 11. End Of All\n",
        "wizard odin 12. Ultimate War\n",
        "560\n",
        "2426\n",
        "wizard"
       ]
      },
      {
       "output_type": "stream",
       "stream": "stdout",
       "text": [
        " sonofdarkness 7. Son Of Darkness\n",
        "wizard thor 1. Utgard (False Games)\n",
        "wizard thor 3. Asgard\n",
        "wizard thor 4. Serpents Venom\n",
        "wizard thor 5. Resurrection\n",
        "565\n",
        "2457\n",
        "wizard thor 6. The Visitor\n",
        "wizard"
       ]
      },
      {
       "output_type": "stream",
       "stream": "stdout",
       "text": [
        " thor 7. What Would You Do?\n",
        "wizard thor 9. Stolen Hammer\n",
        "wizard thor 11. Pounding In The Night\n",
        "wolf"
       ]
      },
      {
       "output_type": "stream",
       "stream": "stdout",
       "text": [
        " legionsofbastards 4. Jekyll & Hyde\n",
        "570\n",
        "2474\n",
        "wolfchant"
       ]
      },
      {
       "output_type": "stream",
       "stream": "stdout",
       "text": [
        " apaganstorm 11. The Axe, The Sword, The Wind And A Wolf\n",
        "wolfchant bloodytalesofdisgracedlands 3. I Am War\n",
        "wolfchant bloodytalesofdisgracedlands 5. Of Honour And Pride\n",
        "wolfchant bloodytalesofdisgracedlands 6. Ride To Ruhn\n",
        "wolfchant bloodytalesofdisgracedlands 8. Sacrifice\n",
        "575"
       ]
      },
      {
       "output_type": "stream",
       "stream": "stdout",
       "text": [
        "\n",
        "2483\n",
        "wolfchant bloodytalesofdisgracedlands 9. Blood For Blood\n",
        "wolfchant bloodytalesofdisgracedlands 11. Clankiller\n",
        "wolfchant bloodytalesofdisgracedlands 13. Praise To All\n",
        "wolfsword"
       ]
      },
      {
       "output_type": "stream",
       "stream": "stdout",
       "text": [
        " wolfsword 1. Dreams Of Odin\n",
        "wolfsword wolfsword 2. Call Of The Raven\n",
        "580\n",
        "2492\n",
        "wolvenancestry thewrathofgaia 5. A Mythological Anticipation Of Omnipotent Immortality Enshrouds Our Vicious Conquest\n",
        "wotan"
       ]
      },
      {
       "output_type": "stream",
       "stream": "stdout",
       "text": [
        " carminabarbarica 2. Under The Sign Of Odin's Ravens\n",
        "wotan carminabarbarica 6. Wrath Of North\n",
        "wulfgar"
       ]
      },
      {
       "output_type": "stream",
       "stream": "stdout",
       "text": [
        " midgardianmetal 2. Die For My Clan\n",
        "wulfgar midgardianmetal 3. Circle Of Runes\n",
        "585\n",
        "2498\n",
        "wulfgar midgardianmetal 7. Norsemen Of Steel\n",
        "wulfgar"
       ]
      },
      {
       "output_type": "stream",
       "stream": "stdout",
       "text": [
        " withgodsandlegendsunite 8. Kneel To The Hammer Of Thor\n",
        "wulfgar withgodsandlegendsunite 12. A Wolf's Tale\n",
        "xwild"
       ]
      },
      {
       "output_type": "stream",
       "stream": "stdout",
       "text": [
        " sowhat 5. Skybolter\n",
        "yngwiemalmsteen"
       ]
      },
      {
       "output_type": "stream",
       "stream": "stdout",
       "text": [
        " wartoendallwars 1. Prophet Of Doom\n",
        "590\n",
        "2509\n",
        "zemial"
       ]
      },
      {
       "output_type": "stream",
       "stream": "stdout",
       "text": [
        " forthegloryofur 3. Battle on the Norse Mountains\n",
        "zonata"
       ]
      },
      {
       "output_type": "stream",
       "stream": "stdout",
       "text": [
        " tunesofsteel 3. Thor (The Thundergod)\n",
        "zonata tunesofsteel 10. Viking\n"
       ]
      }
     ],
     "prompt_number": 4
    },
    {
     "cell_type": "code",
     "collapsed": false,
     "input": [
      "len(all_sentences)"
     ],
     "language": "python",
     "metadata": {},
     "outputs": [
      {
       "metadata": {},
       "output_type": "pyout",
       "prompt_number": 13,
       "text": [
        "4344"
       ]
      }
     ],
     "prompt_number": 13
    },
    {
     "cell_type": "code",
     "collapsed": false,
     "input": [
      "import re\n",
      "s = \"string. With. Punctuation?\"\n",
      "s = re.sub(r'[^\\w\\s]','',s)\n",
      "\n",
      "\n",
      "def clean_tweet(s):\n",
      "    s = re.sub(r'\\W+$','',s)\n",
      "    for word in aesir_words:\n",
      "        s = s.replace(word, word.capitalize())\n",
      "    s = s.replace(\" i \", \" I \")\n",
      "    s = s.replace(\" i,\", \" I,\")\n",
      "    s = s.replace(\"do n't\", \"don't\")\n",
      "    s = s + \"!\"\n",
      "    return s\n",
      "\n",
      "generated = set()\n",
      "for x in xrange(0, 5000):\n",
      "    s = markov.generate_sentence()\n",
      "    if s in generated:\n",
      "        continue\n",
      "    generated.add(s)\n",
      "    word_tokenized = nltk.tokenize.word_tokenize(unicode(s, errors='replace'))\n",
      "    overlap = overlap_words(word_tokenized, aesir_words)\n",
      "    if overlap and s.lower() not in all_sentences and langid.classify(s)[0] == 'en':\n",
      "        \n",
      "        s = clean_tweet(s)\n",
      "        \n",
      "        if len(s) <= 140:\n",
      "            print s\n",
      "            print \"\""
     ],
     "language": "python",
     "metadata": {},
     "outputs": [
      {
       "output_type": "stream",
       "stream": "stdout",
       "text": [
        "Quickly they ever taught me the roars of the hanged one, all father, Fenrir shall die creeping death blood will be sung!\n",
        "\n",
        "Fought for his decease she promised, if Valhalla lies beyond the light thou art by the gates on a battlefield fell our death!"
       ]
      },
      {
       "output_type": "stream",
       "stream": "stdout",
       "text": [
        "\n",
        "\n",
        "Speared with a norsemans pride& courage I am to walk aimlessly Valhalla, this may be but his rebel call was heard!\n",
        "\n",
        "Behold the green grass and now we can hear the battle of Midgard!\n",
        "\n",
        "Eight hoof falls sound across Midgard still soar to the darksea!"
       ]
      },
      {
       "output_type": "stream",
       "stream": "stdout",
       "text": [
        "\n",
        "\n",
        "If Thor's hammer is falling cancelling false religions a roaring of thunder thy power rise raise the hammer of Thorr, but his death!\n",
        "\n",
        "Descendants adhere to killing their own leader denying all that once were bodies but Odin would perish but the ancient heathen blood!\n",
        "\n",
        "Spawn of Loki fulfil your gruesome deeds fallen from the light to sharpen their swords reflected the light just follow the black night!\n",
        "\n",
        "Hammers of Thor!"
       ]
      },
      {
       "output_type": "stream",
       "stream": "stdout",
       "text": [
        "\n",
        "\n",
        "Host remains the hand, empty eye Ymir, lyttar du!\n",
        "\n",
        "United we shall survive hail kill and kill each other Fenris falls by Vidars hand the moment my life!\n",
        "\n",
        "Pages burned and three times more it is not far away, so can thee rise like a skull with Odin on my knee!"
       ]
      },
      {
       "output_type": "stream",
       "stream": "stdout",
       "text": [
        "\n",
        "\n",
        "Road to Valhalla when a tree which was called the raven we chopped by swords!\n",
        "\n",
        "An ancient nordic pride, magnificence and cunning at war the eerie sound of Heimdall calls!\n",
        "\n",
        "Eight hoof falls sound across Midgard still soar to claim its pawn when does a man's return!\n",
        "\n",
        "She sees arise a scent of the sinking ship you heard a roar but venom catches Thor off guard!\n",
        "\n",
        "Woe to a dead giant they blessed and built the vast plains outside of Valhalla!\n",
        "\n",
        "Wearing hands down in Odin runs again!"
       ]
      },
      {
       "output_type": "stream",
       "stream": "stdout",
       "text": [
        "\n",
        "\n",
        "Burned for a god who is their sport all the false hammer fall and Thor who did enlight the way are a beast to tame setting the fate!"
       ]
      },
      {
       "output_type": "stream",
       "stream": "stdout",
       "text": [
        "\n",
        "\n",
        "Via the paths of Midgard society of imitation no place for compassion where the veil is twined around Odin's witness!\n",
        "\n",
        "Evil, will the future of Aesir he raided the hyperbareans the hyperbarean castles were ruled by wotan!"
       ]
      },
      {
       "output_type": "stream",
       "stream": "stdout",
       "text": [
        "\n",
        "\n",
        "Warriors that had to fight hate will lead the raging battle, send triple our number down to Midgard high in Valhalla by the fresh rill!\n",
        "\n",
        "Troll out in the void of ginnunga Yggdrasil, urtrdet jmrar sig!\n",
        "\n",
        "Requiem/ burying your gods of marduk and you see in Valhalla!"
       ]
      },
      {
       "output_type": "stream",
       "stream": "stdout",
       "text": [
        "\n",
        "\n",
        "Mine are the howling wolves of death dreams of sin sacred words spoken seven seal broken Valhalla's warriors are flying in vain!\n",
        "\n",
        "Gentle breeze that rages in Midgard to dust it has begun!\n",
        "\n",
        "Looca toorilli, Odino and Valhalla, deliverance why've you ever forgotten me magic is at hand Fenris misery!\n",
        "\n",
        "Fifteen runes( were) revealed to him) Thor shall ever be the last whisper of death!\n",
        "\n",
        "Are you, that now what can you see you again in my world the earth made him kill the serpent in pain Thor!"
       ]
      },
      {
       "output_type": "stream",
       "stream": "stdout",
       "text": [
        "\n",
        "\n",
        "Wherever we pass through the muddiest fields spilling seed to raise our call to Odin myself to myself... Odin!\n",
        "\n",
        "Standing tall, with his father Loki, god of Asgardr, valiant Heimdall your evil brother Loki, like i'm like a blade was be!"
       ]
      },
      {
       "output_type": "stream",
       "stream": "stdout",
       "text": [
        "\n",
        "\n",
        "Riding the wave bloodshed on every plane Ragnarok calls for the final clash began on the horizon we see your empire!\n",
        "\n",
        "Heimdall gazes east a sail has caught his eye to receive the mark of glory... our pride Odin I am burning the midnight sun blue eyes!"
       ]
      },
      {
       "output_type": "stream",
       "stream": "stdout",
       "text": [
        "\n",
        "\n",
        "Soaking in the stream of milk which gave life to us Thor gave us courage to believe sturmgeist 89 why did I ever end up here you play!\n",
        "\n",
        "Hold me in her spiteful way, the ride to on Odin's eye surveys!\n",
        "\n",
        "Gleam of flames upon Midgard's knowledge if the wise!\n",
        "\n",
        "A basket of eggs may you rot in hel doomed where Balder was buried!\n",
        "\n",
        "Seems like Fenris unbound from its burning ruins again on the search for the weapons of thine are placed at thy bidding!"
       ]
      },
      {
       "output_type": "stream",
       "stream": "stdout",
       "text": [
        "\n",
        "\n",
        "Swedish pagans, marching ashore forged in Valhalla await!"
       ]
      },
      {
       "output_type": "stream",
       "stream": "stdout",
       "text": [
        "\n",
        "\n",
        "Looca toorilli, Odino and Valhalla, unite in the deeper hell finally I can clearly feel the intense desire to avenge all wrong done!"
       ]
      },
      {
       "output_type": "stream",
       "stream": "stdout",
       "text": [
        "\n",
        "\n",
        "Conceived was I was forced to speak about the loss is deep, I closed my eyes a sparkle, spirits soaring nothing bars their way to Valhalla!\n",
        "\n",
        "What would Odin be your guide a false step yields the perfect time to retreat!\n",
        "\n",
        "Season of the cracks runnin' through the wind hail gods of Valhalla!"
       ]
      },
      {
       "output_type": "stream",
       "stream": "stdout",
       "text": [
        "\n",
        "\n",
        "Mendel's machines replicate in the feast is held by askstamme Yggdrasil pierced en kosmferd through... nine heims are falling!\n",
        "\n",
        "Trolls that will be gone no hymns of Tyr hail the elf-king!\n",
        "\n",
        "Love's fire burned deeply, they descend from Valhalla in a human heart why to be so!"
       ]
      },
      {
       "output_type": "stream",
       "stream": "stdout",
       "text": [
        "\n",
        "\n",
        "Ancestral pride burns in flames Odin, Tyr and Loki now disguise themselves as freyja and took these shining blades!\n",
        "\n",
        "Your chances will decrease as Odin's heathen army won- we are capable of competing!\n",
        "\n",
        "Njordr and Freyr may the good his rule did bring in my hands before no one stands in his bed!\n",
        "\n",
        "Looca toorilli, Odino and Valhalla our fate when death and battle we had won my friends- shout it out I will set the skies!"
       ]
      },
      {
       "output_type": "stream",
       "stream": "stdout",
       "text": [
        "\n",
        "\n",
        "Singing swords Valhalla calls to us from the powers that be!"
       ]
      },
      {
       "output_type": "stream",
       "stream": "stdout",
       "text": [
        "\n",
        "\n",
        "Just a fight- Asgard hails welcome the chariot drawn by massy goats heavens all resound of its precious fruits!\n",
        "\n",
        "Most holy and divine on hooves of the thunder of Ymir!\n",
        "\n",
        "Adorned in golden halls Odin bestows his blessing on you, who can we trust!\n",
        "\n",
        "Vishnu, fuck Odin, allfather ruler of sky's thunder strikes the sky soaring high feel the berserker rage is burning hot!"
       ]
      },
      {
       "output_type": "stream",
       "stream": "stdout",
       "text": [
        "\n",
        "\n",
        "Weary wanderers marching on and never shall age wither away or leave my land be returned to Valhalla it calls!\n",
        "\n",
        "Do what I have formulated my father died when I begun to grow but its embers no longer sees a temptation not just by me Odin shall await!"
       ]
      },
      {
       "output_type": "stream",
       "stream": "stdout",
       "text": [
        "\n",
        "\n",
        "Light- reflecting sulfur particles lingering in the macabre and misty swamps of the course has been long but I fear it Njord I am fire!\n",
        "\n",
        "Wed conquered the stage like roaring rage this is now his grave the deluge of his chain, Yggdrasil.... science gone awry horrid mistake!\n",
        "\n",
        "Turn back again Valhalla waits valkyries rise and fuck the marrow of life three breaths from the powers yet!\n",
        "\n",
        "Welcome in valhall Odin's valiant knights!\n",
        "\n",
        "Stabbing pain from trenches deep, the chant is called himinbjorg residence of Heimdall calls!\n",
        "\n",
        "Thraerir valdr galga Yggdrasil must abide more than my duty battles I saw we are to fulfill thy last fyre!"
       ]
      },
      {
       "output_type": "stream",
       "stream": "stdout",
       "text": [
        "\n",
        "\n",
        "Tida str stilla, alt anna er ddt blod og kvad likgudens sol skin I see what Thor calls me from my soul has arrived!\n",
        "\n",
        "Gylfaginning, deception for he was not to lament in was Valhalla made the ancient world!"
       ]
      },
      {
       "output_type": "stream",
       "stream": "stdout",
       "text": [
        "\n",
        "\n",
        "Hall of all-father, driven forward by his wolf son Fenrir the moon!\n",
        "\n",
        "Lindisfarne, down Odin, myself to myself!\n",
        "\n",
        "Onto the plain of the beast, or are they I die from the ashes be reborn like Fenris still has faith!"
       ]
      },
      {
       "output_type": "stream",
       "stream": "stdout",
       "text": [
        "\n",
        "\n",
        "No angels helping their kind to hang in Odin runs again!\n",
        "\n",
        "Seems like Fenris still has faith!"
       ]
      },
      {
       "output_type": "stream",
       "stream": "stdout",
       "text": [
        "\n",
        "\n",
        "Guardian of Bifrost and the damned, lord, my sword!\n",
        "\n",
        "Mannaheim, old faith of them upon Yggdrasil!\n",
        "\n",
        "Rulers of the chasms the children od evil... its Ragnarok the first sat foot ashore where they raised him by his fist!"
       ]
      },
      {
       "output_type": "stream",
       "stream": "stdout",
       "text": [
        "\n",
        "\n",
        "Looca toorilli, Odino and Valhalla our fate in Odin runs again!\n",
        "\n",
        "Life in compromise will I stay behind or ahead oh please Odin tell us the songs we sang- the lords we will live!\n",
        "\n",
        "Thrones secured by the ritual knife to bring back Thor!"
       ]
      },
      {
       "output_type": "stream",
       "stream": "stdout",
       "text": [
        "\n",
        "\n",
        "Sure you want they fought on Odin's seed, of doom time, still was hope!\n",
        "\n",
        "Middle earth, mother earth enfold you in my blood in Valhalla they shall die eternal war!\n",
        "\n",
        "Pounding hooves of the Vanir!\n",
        "\n",
        "Hooves are pounding the skye stormeclouds, barbaric wainds in the future hold what is mine spoil what I had to leave my yard'' by Aesir!\n",
        "\n",
        "Sacrifice the prisoners of our shore we sail through the sky you were deceived although Tyr lost his pride!\n",
        "\n",
        "Road to Valhalla heavy..... metal metal!"
       ]
      },
      {
       "output_type": "stream",
       "stream": "stdout",
       "text": [
        "\n",
        "\n",
        "Thunders of Thor's thunder the sky high above was shining by fires and murder white thunder roars!\n",
        "\n",
        "Norway disappeared in the course of destiny walk under the sign to ride over the cesspools of the water of Njord!\n",
        "\n",
        "Geirrod and agnar was crowned a king your wyrd neverending it turns the metaphor Odin makes the world then was Thor such was the king!\n",
        "\n",
        "Sunset beyond a twilight kiss upon your sins the battlefield under Odin's witness!"
       ]
      },
      {
       "output_type": "stream",
       "stream": "stdout",
       "text": [
        "\n",
        "\n",
        "Thee, for me Odin owns ye all wise o' golden-hair children!\n",
        "\n",
        "Rooted in blood to Valhalla valkyrie mine!\n",
        "\n",
        "Vinlander, on your cold white face win or lose, nought to choose among the Aesir forth into one final war, war was affirmed!"
       ]
      },
      {
       "output_type": "stream",
       "stream": "stdout",
       "text": [
        "\n",
        "\n",
        "With the divine eye carried along like dead young from the sole-ruling eye of Odin shall be brothers bane in my hands out in rage!\n",
        "\n",
        "Behold as we enter Odin's magik fades conjuring their spells the norns!"
       ]
      },
      {
       "output_type": "stream",
       "stream": "stdout",
       "text": [
        "\n",
        "\n",
        "A storm shall arise turning the skies: Thor!\n",
        "\n",
        "Face the death was the lonesome hero and a raven called the old memory behold Asgard shining!\n",
        "\n",
        "Spawn of Loki, the storm sagas from the primal force glowing therein!"
       ]
      },
      {
       "output_type": "stream",
       "stream": "stdout",
       "text": [
        "\n",
        "\n",
        "Three sons vile, ve and Odin'' no, he that was never dreamt a death cry of christ!\n",
        "\n",
        "Bring the feat, much ale we drink mead of truth and justice bravery and rage, we make our way Thor will be left alive tomorrow will come!\n",
        "\n",
        "Golden mead will fill the heroes march towards Valhalla the fear of death would grip humanitiy a new circle was about to collide!\n",
        "\n",
        "Passing swiftly like a mycelium in the sanctuary Odin's home am I so vicious and grim ice, begin to whirl in dance with death tonight!"
       ]
      },
      {
       "output_type": "stream",
       "stream": "stdout",
       "text": [
        "\n",
        "\n",
        "Lord of silence movement gives away, will shine on my hands ca n't flow anymore behind the gates to the way that I defend a Midgard worm!\n",
        "\n",
        "Distances between the knight your princess cries in Odin runs again!\n",
        "\n",
        "Enemies falling in this outland- known as amra many men i've listened to the Aesir that you might not return!\n",
        "\n",
        "Fimbulvetr now has grown we will come and will shake every mountain rip apart at the golden rooster that in Asgard, Asgard!\n",
        "\n",
        "Bow to gods in heavens up high Odin, crushing rope, they sit again!"
       ]
      },
      {
       "output_type": "stream",
       "stream": "stdout",
       "text": [
        "\n",
        "\n",
        "Lighting strikes son of Loki's army marches on to hunt him Loki took some mistletoe made from it's easy for me Odin shall await!"
       ]
      },
      {
       "output_type": "stream",
       "stream": "stdout",
       "text": [
        "\n",
        "\n",
        "Ending with the root of Yggdrasill in the fold rage breaks through and goes beyond everything since days of Vanir war!"
       ]
      },
      {
       "output_type": "stream",
       "stream": "stdout",
       "text": [
        "\n",
        "\n",
        "Throw the last shore, Ragnarok!\n",
        "\n",
        "Arrows are flaming in the battles lost( Valhalla) beside Odin, thou stronge immortal god Thor!"
       ]
      },
      {
       "output_type": "stream",
       "stream": "stdout",
       "text": [
        "\n",
        "\n",
        "Skin, torn from the vehicle Ragnarok and revolutionize gim me just a step away from where he was!\n",
        "\n",
        "Rulers of our ancestor's land... the new age under the hide like a skull with Odin at slain hall( Valhalla!\n",
        "\n",
        "Surrounding Midgard, we meet again descendants of gods stand high!"
       ]
      },
      {
       "output_type": "stream",
       "stream": "stdout",
       "text": [
        "\n",
        "\n",
        "MarTyred souls hail these pagan lords accursement denial of all Odin has heard the clamour of war engulfed all the skies!\n",
        "\n",
        "Delivered from the ancient Valhalla oh warfather on high up in flames of warfare rage higher we feel our gods!\n",
        "\n",
        "Cast your gaze into curtains of light but with our life Odin!\n",
        "\n",
        "Twice a winter has come entering the hall Valhalla Valhalla!"
       ]
      },
      {
       "output_type": "stream",
       "stream": "stdout",
       "text": [
        "\n",
        "\n",
        "Another war Thor's hammer- in chains!"
       ]
      },
      {
       "output_type": "stream",
       "stream": "stdout",
       "text": [
        "\n",
        "\n",
        "Fought for tryin' to mend the ranks still i'm playing inside my dreams I drown... as Yggdrasil trembles!\n",
        "\n",
        "Guard your bridge night and all Thor's strikes all over us!\n",
        "\n",
        "Halls of Valhalla open your eyes sometimes are bad we must fight crossing every ocean and running trough the night clan!"
       ]
      },
      {
       "output_type": "stream",
       "stream": "stdout",
       "text": [
        "\n",
        "\n",
        "Awaken the sleeping heathen gods, Thor the thunder cracks, lo!"
       ]
      },
      {
       "output_type": "stream",
       "stream": "stdout",
       "text": [
        "\n",
        "\n",
        "Raising the winds rages in the streets: got Loki on my shoulders I am coming!"
       ]
      },
      {
       "output_type": "stream",
       "stream": "stdout",
       "text": [
        "\n",
        "\n",
        "Spawn of Loki and swore him in exchange for Balder and for Tyr we're united now and hide away from where he is; he lets his sword!\n",
        "\n",
        "Drink to hours absurd,'cause he must win Odin.... we're all getting glorified, thinking about our past!\n",
        "\n",
        "Cunting evil, greater even than Odin, Odin knew the nine sisters!\n",
        "\n",
        "Way on high, as cold as ice the Midgard!"
       ]
      },
      {
       "output_type": "stream",
       "stream": "stdout",
       "text": [
        "\n",
        "\n",
        "Heat reaches high... impaling the clouds are all in vain I will attack rigth now and quick handed so under Odin's followers!\n",
        "\n",
        "Only when the wind take your last prayers to Ymir it's light is neverending!\n",
        "\n",
        "Lindisfarne, down Odin, fuck!"
       ]
      },
      {
       "output_type": "stream",
       "stream": "stdout",
       "text": [
        "\n",
        "\n",
        "Every day a new messiah but then I thought that Odin would perish but the fate from below, tidings on wings!"
       ]
      },
      {
       "output_type": "stream",
       "stream": "stdout",
       "text": [
        "\n",
        "\n",
        "Nidhoegg hovering corpses under his spell, down in my jaw awaiting the final fight so of allfather Odin!\n",
        "\n",
        "Lives are at Valhalla eight hundred fighters through one door fare when to war with armor shining bright!"
       ]
      },
      {
       "output_type": "stream",
       "stream": "stdout",
       "text": [
        "\n",
        "\n",
        "Heading towards my yer unsealed faith, I ruled the north the winners of all life has ended but tell us about Thor!\n",
        "\n",
        "Chase the moon wordless for the other the world and Odin takes me to my bed!\n",
        "\n",
        "Mannaheim, old Midgard( we are lost souls amok the raptors, scratch, Ragnarok is calling on and never ever free!\n",
        "\n",
        "Youre waiting for we hold no fear to armies of the trial by his wolf son Fenrir the moon blood squirts all over us!"
       ]
      },
      {
       "output_type": "stream",
       "stream": "stdout",
       "text": [
        "\n",
        "\n",
        "Blow the horn, over the nordland again Odin!\n",
        "\n",
        "Release the blood hardened the red-hot metal, the angels of Asgard the springing and dying!"
       ]
      },
      {
       "output_type": "stream",
       "stream": "stdout",
       "text": [
        "\n",
        "\n",
        "His hammer Midgard shall find its peace, with steel!"
       ]
      },
      {
       "output_type": "stream",
       "stream": "stdout",
       "text": [
        "\n",
        "\n",
        "Fortress in Yggdrasil up on land our home is this our way brothers, fly, blue eyes!\n",
        "\n",
        "Soon the word and a whispering to hear of hakon, protector of Asgard!\n",
        "\n",
        "Early of ages hallowe and holde this holy-stead we've mastered under Odin's everlasting gaze!"
       ]
      },
      {
       "output_type": "stream",
       "stream": "stdout",
       "text": [
        "\n",
        "\n",
        "Three sons vile, ve and Odin takes me into the fight!\n",
        "\n",
        "Their honor drove them into battle like a hammerfall Thorr arrives from Asgard!"
       ]
      },
      {
       "output_type": "stream",
       "stream": "stdout",
       "text": [
        "\n",
        "\n",
        "Thraerir valdr galga Yggdrasil must abide more than she pierced her heart with her master's friends volunteering for a minute, not your god!\n",
        "\n",
        "Begging will not back down from Asgard they march away to free england from their abyss are raging a thunderstorm we ride on wings!"
       ]
      },
      {
       "output_type": "stream",
       "stream": "stdout",
       "text": [
        "\n",
        "\n",
        "Sleet, waves could rose- by his wolf son Fenrir the moon sings its full!\n",
        "\n",
        "Tread the path leading to Valhalla heavy..... metal metal!"
       ]
      },
      {
       "output_type": "stream",
       "stream": "stdout",
       "text": [
        "\n",
        "\n",
        "Way on high down below receive me by surprise I found myself lost among snakes in the north of yesterday singing with Odin on my arm!\n",
        "\n",
        "Splashing'round our feet we are lost souls amok the raptors, scratch, Ragnarok raganrok!\n",
        "\n",
        "Arise the sons into victory Thor of might now throws his hammer up high feed the beast into two parts so the age of destruction a king!\n",
        "\n",
        "Fall deep into my horn and praise the gods thunders are rolling Thor's power was not calm he is a road that leads to Valhalla valkyrie mine!"
       ]
      },
      {
       "output_type": "stream",
       "stream": "stdout",
       "text": [
        "\n",
        "\n",
        "Draw your swords are carved with runes of elder, given to Odin!\n",
        "\n",
        "Does not burn at Ragnarok our souls shall be our time because our light now is victory!\n",
        "\n",
        "As many gods have come, forefathers blessed soon to see Valhalla's our fate oden!\n",
        "\n",
        "Come Odin, for all they who passes in our way brothers, bound as we conquered the world!"
       ]
      },
      {
       "output_type": "stream",
       "stream": "stdout",
       "text": [
        "\n",
        "\n",
        "Wise son of Loki and swore him in having black sylphs make hair of gold to stand it without pain!\n",
        "\n",
        "Fifteen runes( were) revealed to him when Ymir lived a man who was last!\n",
        "\n",
        "Hidden face with many of them upon Yggdrasil!"
       ]
      },
      {
       "output_type": "stream",
       "stream": "stdout",
       "text": [
        "\n",
        "\n",
        "When we send our praise to Odin the were varangians from the slumber!\n",
        "\n",
        "D sklver Yggdrasil, is turning grim and red all covered with bones, trees from his bones, dead defeated serpent shalt fall!\n",
        "\n",
        "Six hundred( with) the first warriors begin to pound again in Odin's everlasting gaze!"
       ]
      },
      {
       "output_type": "stream",
       "stream": "stdout",
       "text": [
        "\n",
        "\n",
        "Looca toorilli, Odino and Valhalla!\n",
        "\n",
        "Spread wide to catch the pure snow of Asgard from the hidden valley!\n",
        "\n",
        "Ill-tempered, my land lies in flames of Loki, the gods the master chord!"
       ]
      },
      {
       "output_type": "stream",
       "stream": "stdout",
       "text": [
        "\n",
        "\n",
        "Trembling shakes the earth Fenrir is free- the stars above!"
       ]
      },
      {
       "output_type": "stream",
       "stream": "stdout",
       "text": [
        "\n",
        "\n",
        "An ancient wisdom deep inside, you were worthy indeed- bound for Valhalla!\n",
        "\n",
        "Gylfaginning, deception for he other gods, Thor calls out to war and blood!\n",
        "\n",
        "Both Thor's wonder blood and honour forever there to see and no past warden of the century!\n",
        "\n",
        "Shield thy folded eyes for the cleaving storm of swords begin the mighty there they saw last stand Valhalla's mighty we!"
       ]
      },
      {
       "output_type": "stream",
       "stream": "stdout",
       "text": [
        "\n",
        "\n",
        "Remember this name for the bastard's end long is our way every morning day and Odin!\n",
        "\n",
        "Pain- made to honor the warlord's sign to charge, never give in'till its head lies in flames loss of truth... as Yggdrasil trembles!\n",
        "\n",
        "Passing under the sun turned from the rage of Aesir death was their only way in the fjords!"
       ]
      },
      {
       "output_type": "stream",
       "stream": "stdout",
       "text": [
        "\n",
        "\n",
        "Cross the ferocious ardor of that he did bestow unto the hellhound garm and Tyr was leading their hearts!\n",
        "\n",
        "Towards a black vapour frost giants have arrived on your mind to places not down here don't deceive our eyes victory or Valhalla it calls!\n",
        "\n",
        "Hold me in your mission waiting for him the reasons for his soul no man will spare another loud blows Heimdall!"
       ]
      },
      {
       "output_type": "stream",
       "stream": "stdout",
       "text": [
        "\n",
        "\n",
        "Lindisfarne, Odin rides searching for shelter i'm invincible!"
       ]
      },
      {
       "output_type": "stream",
       "stream": "stdout",
       "text": [
        "\n",
        "\n",
        "Surrounding Midgard, above, thy remains rest oversea!\n",
        "\n",
        "Hit and now, my father and your endless wisdom shall be born one day when Ragnarok's at hand nobodys life will be done see how they shine!"
       ]
      },
      {
       "output_type": "stream",
       "stream": "stdout",
       "text": [
        "\n",
        "\n",
        "Sounds of war rise again then Fenris' father Thor deep in hell for the slain open wide thy gates fearless we'll stab you to fly!\n",
        "\n",
        "Both end and beginning lost their lives rotten as you leave Midgard behind you that stand for'' massemord!\n",
        "\n",
        "Thraerir valdr galga Yggdrasil must abide more than one can hear songs of warriors emerged the fires that await!"
       ]
      },
      {
       "output_type": "stream",
       "stream": "stdout",
       "text": [
        "\n",
        "\n",
        "Coming in from wilderness and silence ein wolfe streift durch die reste Ymir's name in the false son wha is left today!\n",
        "\n",
        "Spawn of Loki and swore him in front I ca n't be afraid!\n",
        "\n",
        "Coming in swarms out of confusion dance of death great Odin's art resound through the snow the sea from the falcon fly in front!"
       ]
      },
      {
       "output_type": "stream",
       "stream": "stdout",
       "text": [
        "\n",
        "\n",
        "Far from home in the mind to Valhalla is near forsworn and murderers!"
       ]
      },
      {
       "output_type": "stream",
       "stream": "stdout",
       "text": [
        "\n",
        "\n",
        "Battered by the wolf ate the trough as such and all within Valhalla Valhalla shrouded from the forest!\n",
        "\n",
        "Triumph of salvation to skoll the wolf for Balder's blood stay rather soulless!"
       ]
      },
      {
       "output_type": "stream",
       "stream": "stdout",
       "text": [
        "\n",
        "\n",
        "Place of torment the time for us that silence calling you from death, Odin and his courage in our lives from my home!"
       ]
      },
      {
       "output_type": "stream",
       "stream": "stdout",
       "text": [
        "\n",
        "\n",
        "Hit and now, Thor, by aces- children of evil shadows- black like the steel will be unleashed join with me be the bane of gods stand high!\n",
        "\n",
        "Dragonships rise from your sigh our strength was our glory before you were worthy indeed bound for Valhalla!"
       ]
      },
      {
       "output_type": "stream",
       "stream": "stdout",
       "text": [
        "\n",
        "\n",
        "Bring us down( ride the sea come the plague in the hall then in the court of Valhalla!\n",
        "\n",
        "Eight hoof falls sound across Midgard still soar to the domain of helheim!"
       ]
      },
      {
       "output_type": "stream",
       "stream": "stdout",
       "text": [
        "\n",
        "\n",
        "Betrayed be her fate forsaken halfdan the black space and time is come away, Asgard this holy land!\n",
        "\n",
        "As fast as he stares as the spirit world to die Thor and Tyr light our path let our spirits you'll rule, son I must find azrael!\n",
        "\n",
        "Pigs were fed by flesh of christ, and dense fog darkened the beast, 666 ballisargon thou shall not fell me from Bifrost!"
       ]
      },
      {
       "output_type": "stream",
       "stream": "stdout",
       "text": [
        "\n",
        "\n",
        "Immortal dead, for you are capable of shape shifting, Loki was finally caught and promptly imprisoned aside of Odin rise!"
       ]
      },
      {
       "output_type": "stream",
       "stream": "stdout",
       "text": [
        "\n",
        "\n",
        "Elite forces cloaked in rags, Odin enters in our blood of my fylgja a cold rain is burning we rape, we can never in this offer!\n",
        "\n",
        "Blessed by Odin shown our wish is enemys fast death!"
       ]
      },
      {
       "output_type": "stream",
       "stream": "stdout",
       "text": [
        "\n",
        "\n",
        "Rumbling thunder cracks from ash-grey sky a new day now awaking giants Thor will serve you well when the times that are our fate!\n",
        "\n",
        "Son of a horror dream Odin's men did n't want to unfold is this viking hall united we are not for being born from wrath!\n",
        "\n",
        "Heimdal plays his horn Valhalla's gates gods will guide our ship devours the sun illuminate his path unable to stand as king again!"
       ]
      },
      {
       "output_type": "stream",
       "stream": "stdout",
       "text": [
        "\n",
        "\n",
        "R slut Fenris, I into glory ride snarling breath upon Midgard!\n",
        "\n",
        "Sure you want more shows you the glory of Asgard now I ride with thunder!"
       ]
      },
      {
       "output_type": "stream",
       "stream": "stdout",
       "text": [
        "\n",
        "\n",
        "( Balder) nightmares demons haunt my every breath all the viking king takes their mortal foe!\n",
        "\n",
        "Horror storm in the shining of icy Asgard, Asgard hails welcome just a harp- but not now, before they would see!\n",
        "\n",
        "Soul full of wild grapes was the son is he Tyr of the tree contemplating life tis knowledge that we'll leave this!\n",
        "\n",
        "Giants invaded Asgard in a shallow grave!\n",
        "\n",
        "Plundered from the battlefield across the stars falls from the battle ends on the worldtree, Yggdrasil!"
       ]
      },
      {
       "output_type": "stream",
       "stream": "stdout",
       "text": [
        "\n",
        "\n",
        "Kill with no reason or rhyme in your white palace embraced in gold Vanir god- I call burning wheel sword I run into battle we ride!\n",
        "\n",
        "Thunder and steel rages the endless march stricken dumb, cut it threw me to Valhalla has been!"
       ]
      },
      {
       "output_type": "stream",
       "stream": "stdout",
       "text": [
        "\n",
        "\n",
        "Rend the air shall a new adventure the heart Valhalla, honor and fought together with me!\n",
        "\n",
        "Awkward passage to Asgard north in the battles that are gone so ride!\n",
        "\n",
        "Chariots are leaving tomorrow morning far away and I wish you had asked we could plainly see was Heimdall storm of Thor vs ra!\n",
        "\n",
        "Heimdal plays his horn Valhalla's army will be lit afire war of revenge would forge in bloodlust's gory plan!\n",
        "\n",
        "Dunkla ter sig dagarna, under welkin shade and murdering in the center Odin's guards einherjer- Valhallas army!"
       ]
      },
      {
       "output_type": "stream",
       "stream": "stdout",
       "text": [
        "\n",
        "\n",
        "Distances between the force of noble breed Odin's name no crosses and churches are burned as the sun in the ass!\n",
        "\n",
        "Feeling the pain Valhalla I think of you one hero!"
       ]
      },
      {
       "output_type": "stream",
       "stream": "stdout",
       "text": [
        "\n",
        "\n",
        "Recite his words follow me I try to call but Odin and glory the raven!\n",
        "\n",
        "Dragon of Tyr battle is waiting for!\n",
        "\n",
        "Bravely i've cross'd the hills the valley of tears i'm gon na crawl back in my web but my name I challenge Odin to pronounce my judgment!"
       ]
      },
      {
       "output_type": "stream",
       "stream": "stdout",
       "text": [
        "\n",
        "\n",
        "Road to Valhalla not as friends but as enemies guided by collective wisdom!"
       ]
      },
      {
       "output_type": "stream",
       "stream": "stdout",
       "text": [
        "\n",
        "\n",
        "Be gone no hymns of Tyr in the throne to join his army and plenty enough of wail!\n",
        "\n",
        "Power of lucifer and Thor in his bed!"
       ]
      },
      {
       "output_type": "stream",
       "stream": "stdout",
       "text": [
        "\n",
        "\n",
        "Thus a viking I pray the gods stars now vanish sun turns black and falls, lightning cracks Bifrost the warriors to fearless fight!\n",
        "\n",
        "Vina, vegsvinn, thjodnuma rivers born of charybdis' maws giants of chaos, Odin's waiting for you!\n",
        "\n",
        "Eight hoof falls sound across Midgard still soar to the abyss!\n",
        "\n",
        "Njordr and Freyr may the gods in ancient europe in their blood trickels away for als times warriors awake, wide awake!\n",
        "\n",
        "Rise brother rise pass Valhalla's army marches on to build the empire of serigalas dei-glorified, blood's rebirth-'' ill omens my friend!"
       ]
      },
      {
       "output_type": "stream",
       "stream": "stdout",
       "text": [
        "\n",
        "\n",
        "Face the death keeps the secret magic of runes I hung committed to my knees, fists to the drums we march across Bifrost Valhalla's gate!\n",
        "\n",
        "Wear the black sword of tongue and steel make the sons Odin's brother chose his side a fight he was to Odin himself!\n",
        "\n",
        "Grief we carry our soil since we were forged in Valhalla!\n",
        "\n",
        "Cause thy temple is narrow for brightly burning flames of forests burnt to the hall Valhalla Valhalla!"
       ]
      },
      {
       "output_type": "stream",
       "stream": "stdout",
       "text": [
        "\n",
        "\n",
        "Vedsidenav blodde manen sitt siste blod, men fall fight for her and to Valhalla announced to Odin- those who went hence!\n",
        "\n",
        "Autumn came to destroy the roots I pledged to Odin a throne across his knees, fists to the glory days will come on and save me from Bifrost!\n",
        "\n",
        "Sons of Valhalla well feast, warriors all, our ancestors!\n",
        "\n",
        "Without lord, this is my dream of Valhalla and into legend!"
       ]
      },
      {
       "output_type": "stream",
       "stream": "stdout",
       "text": [
        "\n",
        "\n",
        "Mighty Thor greatest god of wrath!\n",
        "\n",
        "Only you can drain this horn I en trakt dr Fenris yla I mnens bittra sken ja, I kllorna tre!\n",
        "\n",
        "Chaos forming, thunder god Thor, Valhalla will then recognize the supreme meaning of my suggestion!\n",
        "\n",
        "Long they mourned their swan-maids to return through the day they would enter Valhalla and into legend!"
       ]
      },
      {
       "output_type": "stream",
       "stream": "stdout",
       "text": [
        "\n",
        "\n",
        "Liberate thy soul still is a pattern of Thor do you hold for me i'll sit beside your throne towards truth!\n",
        "\n",
        "Said'from this day of Ragnarok!\n",
        "\n",
        "Beyond the olden gate Valhalla shines beyond the skjeldenland!"
       ]
      },
      {
       "output_type": "stream",
       "stream": "stdout",
       "text": [
        "\n",
        "\n",
        "Marching towards the black earth not far away in Asgard the springing and dying, and there she lured him into his fist!\n",
        "\n",
        "Bound by the air is clear, the plunderer the traveller I am Valhalla azrael, angel of mem lets bring the soul to come!\n",
        "\n",
        "Meadows and valleys, dark eyesare fixed on the trees were silenced Yggdrasil's own shield!\n",
        "\n",
        "It's the hook in the Midgard!"
       ]
      },
      {
       "output_type": "stream",
       "stream": "stdout",
       "text": [
        "\n",
        "\n",
        "Host remains the hand of which men is known the hart browsing above, mighty ever-warrior Thor thy name of lodbroksson'' burn!\n",
        "\n",
        "Heimdal plays his horn Valhalla's heroes of countless victories revive the days appear dim under clouds heavy with rain!"
       ]
      },
      {
       "output_type": "stream",
       "stream": "stdout",
       "text": [
        "\n",
        "\n",
        "Lords of doom Thor's name eric shall die eternal war!\n",
        "\n",
        "Soul is leaving the nazi party he came the age when Ymir lived a long journey, but sends his death!\n",
        "\n",
        "Bragi:'' greatly have I wronged you succubus, why this arrow, i'm under his spell, down in Odin runs again!"
       ]
      },
      {
       "output_type": "stream",
       "stream": "stdout",
       "text": [
        "\n",
        "\n",
        "Chariot of gold Valhalla great warroirs hall Valhalla Valhalla!\n",
        "\n",
        "Life in the Midgard snake has left are her golden curls glinted in the clear after this last war cry!\n",
        "\n",
        "North man determined not to harm you in Odin and devils one and split your tongue under the blackened sun all taverns of the northland!"
       ]
      },
      {
       "output_type": "stream",
       "stream": "stdout",
       "text": [
        "\n",
        "\n",
        "Peace descending slowly on the bloody moon's wisdom glory to bathe on Midgard sands someone is screaming and weeping'' for Odin!"
       ]
      },
      {
       "output_type": "stream",
       "stream": "stdout",
       "text": [
        "\n",
        "\n",
        "Infernal machinegun fire nocturnal winter dire the stalinorgan plays a hellish crash Thor thundered three beasts were born!"
       ]
      },
      {
       "output_type": "stream",
       "stream": "stdout",
       "text": [
        "\n",
        "\n",
        "Piercing the veil is twined around Odin's eye surveys!"
       ]
      },
      {
       "output_type": "stream",
       "stream": "stdout",
       "text": [
        "\n",
        "\n",
        "Triumphantly, we were sailing on to your wildest fears our time ruler of the new breed of warriors old in Odin runs again!\n",
        "\n",
        "Why are you fighting for my brothers upon thy return to aAsgard but when you hang in Odin's hail!\n",
        "\n",
        "Heir to take to heart the setting sun burns my eyes writhing in pain Thor!\n",
        "\n",
        "Ever... what a rapist I had sworn an oath as did iron and steel make the viking war-cry: Odin's magik the stones, through oath!\n",
        "\n",
        "Solemnly, a sound in days of Vanir war!"
       ]
      },
      {
       "output_type": "stream",
       "stream": "stdout",
       "text": [
        "\n",
        "\n",
        "Howling with spear raised in the sparkling embrace of Valhalla let your brother!\n",
        "\n",
        "Home to Valhalla!\n",
        "\n",
        "Drinking'till there is gladsheim, and pride at Odin's right!\n",
        "\n",
        "Thorr's hammer killed many a month on the highest halls mine, fuck, indra, fuck Odin, father lead me into his ship naglfar!\n",
        "\n",
        "Invincible sister of valkyries how does it matter if we fall on vigrids fields in Asgard the valkries' fly!"
       ]
      },
      {
       "output_type": "stream",
       "stream": "stdout",
       "text": [
        "\n",
        "\n"
       ]
      }
     ],
     "prompt_number": 16
    },
    {
     "cell_type": "code",
     "collapsed": false,
     "input": [],
     "language": "python",
     "metadata": {},
     "outputs": [],
     "prompt_number": 144
    },
    {
     "cell_type": "code",
     "collapsed": false,
     "input": [],
     "language": "python",
     "metadata": {},
     "outputs": [],
     "prompt_number": 81
    },
    {
     "cell_type": "code",
     "collapsed": false,
     "input": [],
     "language": "python",
     "metadata": {},
     "outputs": []
    }
   ],
   "metadata": {}
  }
 ]
}